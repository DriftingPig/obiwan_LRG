{
 "cells": [
  {
   "cell_type": "code",
   "execution_count": 1,
   "metadata": {},
   "outputs": [],
   "source": [
    "#check the distribution shapes of samples in three regions"
   ]
  },
  {
   "cell_type": "code",
   "execution_count": 1,
   "metadata": {},
   "outputs": [
    {
     "name": "stdout",
     "output_type": "stream",
     "text": [
      "Populating the interactive namespace from numpy and matplotlib\n"
     ]
    }
   ],
   "source": [
    "%pylab inline\n",
    "import matplotlib.pyplot as plt\n",
    "import numpy as np\n",
    "import astropy.io.fits as fits\n",
    "from astropy.table import Table\n",
    "import sys\n",
    "sys.path.append('.')\n",
    "from source import source"
   ]
  },
  {
   "cell_type": "code",
   "execution_count": 20,
   "metadata": {},
   "outputs": [],
   "source": [
    "# Libraries\n",
    "from scipy.stats import kde\n",
    " \n",
    "def plot_maker(x_col,y_col,x_label=None,y_label=None,y_lim=None,x_lim=None,color='red'):\n",
    "    import numpy as n\n",
    "    x, y = x_col,y_col\n",
    "    nbins = 30\n",
    "    # Evaluate a gaussian kde on a regular grid of nbins x nbins over data extents\n",
    "    k = kde.gaussian_kde(np.array([x,y]))\n",
    "    xi, yi = np.mgrid[x.min():x.max():nbins*1j, y.min():y.max():nbins*1j]\n",
    "    zi = k(np.vstack([xi.flatten(), yi.flatten()]))\n",
    " \n",
    "    # contour\n",
    "    import matplotlib.colors as mcolors\n",
    "    if x_label is not None:\n",
    "        plt.xlabel(x_label)\n",
    "        plt.ylabel(y_label)\n",
    "    if y_lim is not None:\n",
    "        plt.gca().set_ylim(y_lim)\n",
    "    if x_lim is not None:\n",
    "        plt.gca().set_xlim(x_lim)\n",
    "    if color=='red':\n",
    "        colors = [(1,0,0,i) for i in np.linspace(0.2,1,9)]\n",
    "        colors[0] = (0, 0, 1, 0.0)\n",
    "    if color=='blue':\n",
    "        colors = [(0,0,1,i) for i in np.linspace(0.2,1,9)]\n",
    "        colors[0] = (0, 0, 1, 0.0)\n",
    "    if color=='yellow':\n",
    "        colors = [(0,1,0,i) for i in np.linspace(0.2,1,9)]\n",
    "        colors[0] = (0, 1, 0, 0.0)\n",
    "\n",
    "    plt.contourf(xi, yi, zi.reshape(xi.shape),8,colors=colors)\n"
   ]
  },
  {
   "cell_type": "code",
   "execution_count": 3,
   "metadata": {},
   "outputs": [],
   "source": [
    "dat = fits.getdata('/global/cscratch1/sd/ajross/tarcat/vtest/tv0.50.0/LRG_IRsv1targetsDR9v0.50.0_masked.fits')\n",
    "#random = fits.getdata('/global/cscratch1/sd/ajross/tarcat/vtest/tv0.49.0/randomsDR9v0.49.0_0_masked.fits')\n",
    "random=dat"
   ]
  },
  {
   "cell_type": "code",
   "execution_count": 4,
   "metadata": {},
   "outputs": [],
   "source": [
    "DS = source('LRG','DS')"
   ]
  },
  {
   "cell_type": "code",
   "execution_count": 5,
   "metadata": {},
   "outputs": [],
   "source": [
    "DN = source('LRG','DN')"
   ]
  },
  {
   "cell_type": "code",
   "execution_count": 6,
   "metadata": {},
   "outputs": [],
   "source": [
    "BM = source('LRG','BassMzls')"
   ]
  },
  {
   "cell_type": "code",
   "execution_count": 7,
   "metadata": {},
   "outputs": [
    {
     "name": "stderr",
     "output_type": "stream",
     "text": [
      "/global/cscratch1/sd/huikong/Obiwan/dr9_LRG/notebooks/tools.py:8: RuntimeWarning: divide by zero encountered in log10\n",
      "  mag= 22.5 - 2.5 * np.log10(flux / mwtransmission)\n",
      "/global/cscratch1/sd/huikong/Obiwan/dr9_LRG/notebooks/tools.py:8: RuntimeWarning: invalid value encountered in log10\n",
      "  mag= 22.5 - 2.5 * np.log10(flux / mwtransmission)\n",
      "/global/common/software/desi/cori/desiconda/20180709-1.2.6-spec/conda/lib/python3.6/site-packages/ipykernel/__main__.py:7: RuntimeWarning: invalid value encountered in greater\n",
      "/global/common/software/desi/cori/desiconda/20180709-1.2.6-spec/conda/lib/python3.6/site-packages/ipykernel/__main__.py:7: RuntimeWarning: invalid value encountered in less\n"
     ]
    }
   ],
   "source": [
    "from tools import *\n",
    "gmag_dn=flux2mag(DN.data['FLUX_G'],DN.data['MW_TRANSMISSION_G'])\n",
    "rmag_dn=flux2mag(DN.data['FLUX_R'],DN.data['MW_TRANSMISSION_R'])\n",
    "zmag_dn=flux2mag(DN.data['FLUX_Z'],DN.data['MW_TRANSMISSION_Z'])\n",
    "\n",
    "#plot_maker(DN.data['FLUX_G']/DN.data['MW_TRANSMISSION_G'],DN.data['FLUX_R']/DN.data['MW_TRANSMISSION_R'])\n",
    "sel_dn = (gmag_dn>-1000)&(gmag_dn<1000)&(rmag_dn>-1000)&(rmag_dn<1000)&(zmag_dn>-1000)&(zmag_dn<1000)"
   ]
  },
  {
   "cell_type": "code",
   "execution_count": null,
   "metadata": {},
   "outputs": [],
   "source": []
  },
  {
   "cell_type": "code",
   "execution_count": 10,
   "metadata": {},
   "outputs": [
    {
     "data": {
      "text/plain": [
       "Text(0.5,1,'Decals North')"
      ]
     },
     "execution_count": 10,
     "metadata": {},
     "output_type": "execute_result"
    },
    {
     "data": {
      "image/png": "[encoded data removed]",
      "text/plain": [
       "<matplotlib.figure.Figure at 0x2aabe195b390>"
      ]
     },
     "metadata": {},
     "output_type": "display_data"
    }
   ],
   "source": [
    "plot_maker(gmag_dn[sel_dn][::20],rmag_dn[sel_dn][::20],x_lim=(19,26),y_lim=(18,24))\n",
    "plt.xlabel('g mag')\n",
    "plt.ylabel('r mag')\n",
    "plt.title('Decals North')"
   ]
  },
  {
   "cell_type": "code",
   "execution_count": 18,
   "metadata": {},
   "outputs": [
    {
     "name": "stderr",
     "output_type": "stream",
     "text": [
      "/global/cscratch1/sd/huikong/Obiwan/dr9_LRG/notebooks/tools.py:8: RuntimeWarning: divide by zero encountered in log10\n",
      "  mag= 22.5 - 2.5 * np.log10(flux / mwtransmission)\n",
      "/global/cscratch1/sd/huikong/Obiwan/dr9_LRG/notebooks/tools.py:8: RuntimeWarning: invalid value encountered in log10\n",
      "  mag= 22.5 - 2.5 * np.log10(flux / mwtransmission)\n",
      "/global/common/software/desi/cori/desiconda/20180709-1.2.6-spec/conda/lib/python3.6/site-packages/ipykernel/__main__.py:4: RuntimeWarning: invalid value encountered in greater\n",
      "/global/common/software/desi/cori/desiconda/20180709-1.2.6-spec/conda/lib/python3.6/site-packages/ipykernel/__main__.py:4: RuntimeWarning: invalid value encountered in less\n"
     ]
    }
   ],
   "source": [
    "gmag_ds=flux2mag(DS.data['FLUX_G'],DS.data['MW_TRANSMISSION_G'])\n",
    "rmag_ds=flux2mag(DS.data['FLUX_R'],DS.data['MW_TRANSMISSION_R'])\n",
    "zmag_ds=flux2mag(DS.data['FLUX_Z'],DS.data['MW_TRANSMISSION_Z'])\n",
    "sel_ds = (gmag_ds>-1000)&(gmag_ds<1000)&(rmag_ds>-1000)&(rmag_ds<1000)&(zmag_ds>-1000)&(zmag_ds<1000)"
   ]
  },
  {
   "cell_type": "code",
   "execution_count": 19,
   "metadata": {},
   "outputs": [
    {
     "data": {
      "text/plain": [
       "Text(0.5,1,'Decals South')"
      ]
     },
     "execution_count": 19,
     "metadata": {},
     "output_type": "execute_result"
    },
    {
     "data": {
      "image/png": "[encoded data removed]",
      "text/plain": [
       "<matplotlib.figure.Figure at 0x2aabe195b320>"
      ]
     },
     "metadata": {},
     "output_type": "display_data"
    }
   ],
   "source": [
    "plot_maker(gmag_ds[sel_ds][::20],rmag_ds[sel_ds][::20],x_lim=(19,26),y_lim=(18,24))\n",
    "plt.xlabel('g mag')\n",
    "plt.ylabel('r mag')\n",
    "plt.title('Decals South')"
   ]
  },
  {
   "cell_type": "code",
   "execution_count": 16,
   "metadata": {},
   "outputs": [
    {
     "name": "stderr",
     "output_type": "stream",
     "text": [
      "/global/cscratch1/sd/huikong/Obiwan/dr9_LRG/notebooks/tools.py:8: RuntimeWarning: divide by zero encountered in log10\n",
      "  mag= 22.5 - 2.5 * np.log10(flux / mwtransmission)\n",
      "/global/cscratch1/sd/huikong/Obiwan/dr9_LRG/notebooks/tools.py:8: RuntimeWarning: invalid value encountered in log10\n",
      "  mag= 22.5 - 2.5 * np.log10(flux / mwtransmission)\n",
      "/global/common/software/desi/cori/desiconda/20180709-1.2.6-spec/conda/lib/python3.6/site-packages/ipykernel/__main__.py:4: RuntimeWarning: invalid value encountered in greater\n",
      "/global/common/software/desi/cori/desiconda/20180709-1.2.6-spec/conda/lib/python3.6/site-packages/ipykernel/__main__.py:4: RuntimeWarning: invalid value encountered in less\n"
     ]
    }
   ],
   "source": [
    "gmag_bm=flux2mag(BM.data['FLUX_G'],BM.data['MW_TRANSMISSION_G'])\n",
    "rmag_bm=flux2mag(BM.data['FLUX_R'],BM.data['MW_TRANSMISSION_R'])\n",
    "zmag_bm=flux2mag(BM.data['FLUX_Z'],BM.data['MW_TRANSMISSION_Z'])\n",
    "sel_bm = (gmag_bm>-1000)&(gmag_bm<1000)&(rmag_bm>-1000)&(rmag_bm<1000)&(zmag_bm>-1000)&(zmag_bm<1000)"
   ]
  },
  {
   "cell_type": "code",
   "execution_count": 17,
   "metadata": {},
   "outputs": [
    {
     "data": {
      "text/plain": [
       "Text(0.5,1,'Bass/Mzls')"
      ]
     },
     "execution_count": 17,
     "metadata": {},
     "output_type": "execute_result"
    },
    {
     "data": {
      "image/png": "[encoded data removed]",
      "text/plain": [
       "<matplotlib.figure.Figure at 0x2aabdfec2518>"
      ]
     },
     "metadata": {},
     "output_type": "display_data"
    }
   ],
   "source": [
    "plot_maker(gmag_bm[sel_bm][::20],rmag_bm[sel_bm][::20],x_lim=(19,26),y_lim=(18,24))\n",
    "plt.xlabel('g mag')\n",
    "plt.ylabel('r mag')\n",
    "plt.title('Bass/Mzls')"
   ]
  },
  {
   "cell_type": "code",
   "execution_count": null,
   "metadata": {},
   "outputs": [],
   "source": []
  },
  {
   "cell_type": "code",
   "execution_count": 26,
   "metadata": {},
   "outputs": [
    {
     "data": {
      "text/plain": [
       "Text(0,0.5,'r mag')"
      ]
     },
     "execution_count": 26,
     "metadata": {},
     "output_type": "execute_result"
    },
    {
     "data": {
      "image/png": "[encoded data removed]",
      "text/plain": [
       "<matplotlib.figure.Figure at 0x2aabe022a438>"
      ]
     },
     "metadata": {},
     "output_type": "display_data"
    }
   ],
   "source": [
    "plot_maker(gmag_dn[sel_dn][::20],rmag_dn[sel_dn][::20],x_lim=(19,26),y_lim=(18,24),color='red')\n",
    "plot_maker(gmag_ds[sel_ds][::20],rmag_ds[sel_ds][::20],x_lim=(19,26),y_lim=(18,24),color='blue')\n",
    "plot_maker(gmag_bm[sel_bm][::20],rmag_bm[sel_bm][::20],x_lim=(19,26),y_lim=(18,24),color='yellow')\n",
    "plt.xlabel('g mag')\n",
    "plt.ylabel('r mag')"
   ]
  },
  {
   "cell_type": "code",
   "execution_count": null,
   "metadata": {},
   "outputs": [],
   "source": [
    "plot_maker(gmag_dn[sel_dn][::20],zmag_dn[sel_dn][::20],x_lim=(19,26),y_lim=(16,22),color='red')\n",
    "plot_maker(gmag_ds[sel_ds][::20],zmag_ds[sel_ds][::20],x_lim=(19,26),y_lim=(16,22),color='blue')\n",
    "plot_maker(gmag_bm[sel_bm][::20],zmag_bm[sel_bm][::20],x_lim=(19,26),y_lim=(16,22),color='yellow')\n",
    "plt.xlabel('g mag')\n",
    "plt.ylabel('z mag')"
   ]
  },
  {
   "cell_type": "code",
   "execution_count": null,
   "metadata": {},
   "outputs": [],
   "source": [
    "plot_maker(rmag_dn[sel_dn][::20],zmag_dn[sel_dn][::20],x_lim=(18,24),y_lim=(17,22),color='red')\n",
    "plot_maker(rmag_ds[sel_ds][::20],zmag_ds[sel_ds][::20],x_lim=(18,24),y_lim=(17,22),color='blue')\n",
    "plot_maker(rmag_bm[sel_bm][::20],zmag_bm[sel_bm][::20],x_lim=(18,24),y_lim=(17,22),color='yellow')\n",
    "plt.xlabel('r mag')\n",
    "plt.ylabel('z mag')"
   ]
  },
  {
   "cell_type": "code",
   "execution_count": null,
   "metadata": {},
   "outputs": [],
   "source": []
  }
 ],
 "metadata": {
  "kernelspec": {
   "display_name": "DESI 19.2",
   "language": "python",
   "name": "desi-19.2"
  },
  "language_info": {
   "codemirror_mode": {
    "name": "ipython",
    "version": 3
   },
   "file_extension": ".py",
   "mimetype": "text/x-python",
   "name": "python",
   "nbconvert_exporter": "python",
   "pygments_lexer": "ipython3",
   "version": "3.6.6"
  }
 },
 "nbformat": 4,
 "nbformat_minor": 4
}
