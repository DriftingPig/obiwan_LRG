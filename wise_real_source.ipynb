{
 "cells": [
  {
   "cell_type": "code",
   "execution_count": 95,
   "metadata": {},
   "outputs": [],
   "source": [
    "%matplotlib inline\n",
    "import matplotlib.pyplot as plt\n",
    "import astropy.io.fits as fits\n",
    "import numpy as np\n",
    "\n",
    "from astropy.coordinates import SkyCoord\n",
    "from astropy import units"
   ]
  },
  {
   "cell_type": "code",
   "execution_count": 96,
   "metadata": {},
   "outputs": [],
   "source": [
    "brickname = '2408p222'\n",
    "output = fits.getdata('/global/cscratch1/sd/huikong/obiwan_Aug/repos_for_docker/obiwan_out/dr9_test/tractor/240/2408p222/rs0/tractor-2408p222.fits')\n",
    "Input = fits.getdata('/global/cscratch1/sd/huikong/Obiwan/dr9m/obiwan_out/dr9m_test/divided_randoms/brick_2408p222.fits')[:200]\n"
   ]
  },
  {
   "cell_type": "code",
   "execution_count": 97,
   "metadata": {},
   "outputs": [
    {
     "name": "stderr",
     "output_type": "stream",
     "text": [
      "/global/common/software/desi/cori/desiconda/20180709-1.2.6-spec/conda/lib/python3.6/site-packages/ipykernel/__main__.py:3: RuntimeWarning: invalid value encountered in log10\n",
      "  app.launch_new_instance()\n",
      "/global/common/software/desi/cori/desiconda/20180709-1.2.6-spec/conda/lib/python3.6/site-packages/ipykernel/__main__.py:5: RuntimeWarning: invalid value encountered in log10\n"
     ]
    }
   ],
   "source": [
    "flux = output['flux_w1']\n",
    "mwtransmission = output['mw_transmission_w1']\n",
    "ag= 22.5 - 2.5 * np.log10(flux / mwtransmission)\n",
    "\n",
    "mag_g = 22.5 - 2.5 * np.log10(output['flux_g'] / output['mw_transmission_g'])"
   ]
  },
  {
   "cell_type": "code",
   "execution_count": 98,
   "metadata": {},
   "outputs": [
    {
     "data": {
      "text/plain": [
       "0.50097412"
      ]
     },
     "execution_count": 98,
     "metadata": {},
     "output_type": "execute_result"
    }
   ],
   "source": [
    "np.median(np.sqrt(1./output['flux_ivar_w1'][i2]))\n"
   ]
  },
  {
   "cell_type": "code",
   "execution_count": 105,
   "metadata": {},
   "outputs": [
    {
     "data": {
      "text/plain": [
       "ColDefs(\n",
       "    name = 'release'; format = 'I'\n",
       "    name = 'brickid'; format = 'J'\n",
       "    name = 'brickname'; format = '8A'\n",
       "    name = 'objid'; format = 'J'\n",
       "    name = 'brick_primary'; format = 'L'\n",
       "    name = 'maskbits'; format = 'I'\n",
       "    name = 'fitbits'; format = 'I'\n",
       "    name = 'type'; format = '3A'\n",
       "    name = 'ra'; format = 'D'; unit = 'deg'\n",
       "    name = 'dec'; format = 'D'; unit = 'deg'\n",
       "    name = 'ra_ivar'; format = 'E'; unit = '1/deg^2'\n",
       "    name = 'dec_ivar'; format = 'E'; unit = '1/deg^2'\n",
       "    name = 'bx'; format = 'E'\n",
       "    name = 'by'; format = 'E'\n",
       "    name = 'dchisq'; format = '5E'\n",
       "    name = 'ebv'; format = 'E'; unit = 'mag'\n",
       "    name = 'mjd_min'; format = 'D'\n",
       "    name = 'mjd_max'; format = 'D'\n",
       "    name = 'ref_cat'; format = '2A'\n",
       "    name = 'ref_id'; format = 'K'\n",
       "    name = 'pmra'; format = 'E'; unit = 'mas/yr'\n",
       "    name = 'pmdec'; format = 'E'; unit = 'mas/yr'\n",
       "    name = 'parallax'; format = 'E'; unit = 'mas'\n",
       "    name = 'pmra_ivar'; format = 'E'; unit = '1/(mas/yr)^2'\n",
       "    name = 'pmdec_ivar'; format = 'E'; unit = '1/(mas/yr)^2'\n",
       "    name = 'parallax_ivar'; format = 'E'; unit = '1/mas^2'\n",
       "    name = 'ref_epoch'; format = 'E'\n",
       "    name = 'gaia_phot_g_mean_mag'; format = 'E'; unit = 'mag'\n",
       "    name = 'gaia_phot_g_mean_flux_over_error'; format = 'E'\n",
       "    name = 'gaia_phot_g_n_obs'; format = 'I'\n",
       "    name = 'gaia_phot_bp_mean_mag'; format = 'E'; unit = 'mag'\n",
       "    name = 'gaia_phot_bp_mean_flux_over_error'; format = 'E'\n",
       "    name = 'gaia_phot_bp_n_obs'; format = 'I'\n",
       "    name = 'gaia_phot_rp_mean_mag'; format = 'E'; unit = 'mag'\n",
       "    name = 'gaia_phot_rp_mean_flux_over_error'; format = 'E'\n",
       "    name = 'gaia_phot_rp_n_obs'; format = 'I'\n",
       "    name = 'gaia_phot_variable_flag'; format = 'L'\n",
       "    name = 'gaia_astrometric_excess_noise'; format = 'E'\n",
       "    name = 'gaia_astrometric_excess_noise_sig'; format = 'E'\n",
       "    name = 'gaia_astrometric_n_obs_al'; format = 'I'\n",
       "    name = 'gaia_astrometric_n_good_obs_al'; format = 'I'\n",
       "    name = 'gaia_astrometric_weight_al'; format = 'E'\n",
       "    name = 'gaia_duplicated_source'; format = 'L'\n",
       "    name = 'gaia_a_g_val'; format = 'E'\n",
       "    name = 'gaia_e_bp_min_rp_val'; format = 'E'\n",
       "    name = 'gaia_phot_bp_rp_excess_factor'; format = 'E'\n",
       "    name = 'gaia_astrometric_sigma5d_max'; format = 'E'\n",
       "    name = 'gaia_astrometric_params_solved'; format = 'B'\n",
       "    name = 'flux_g'; format = 'E'; unit = 'nanomaggy'\n",
       "    name = 'flux_r'; format = 'E'; unit = 'nanomaggy'\n",
       "    name = 'flux_z'; format = 'E'; unit = 'nanomaggy'\n",
       "    name = 'flux_w1'; format = 'E'; unit = 'nanomaggy'\n",
       "    name = 'flux_w2'; format = 'E'; unit = 'nanomaggy'\n",
       "    name = 'flux_w3'; format = 'E'; unit = 'nanomaggy'\n",
       "    name = 'flux_w4'; format = 'E'; unit = 'nanomaggy'\n",
       "    name = 'flux_ivar_g'; format = 'E'; unit = '1/nanomaggy^2'\n",
       "    name = 'flux_ivar_r'; format = 'E'; unit = '1/nanomaggy^2'\n",
       "    name = 'flux_ivar_z'; format = 'E'; unit = '1/nanomaggy^2'\n",
       "    name = 'flux_ivar_w1'; format = 'E'; unit = '1/nanomaggy^2'\n",
       "    name = 'flux_ivar_w2'; format = 'E'; unit = '1/nanomaggy^2'\n",
       "    name = 'flux_ivar_w3'; format = 'E'; unit = '1/nanomaggy^2'\n",
       "    name = 'flux_ivar_w4'; format = 'E'; unit = '1/nanomaggy^2'\n",
       "    name = 'fiberflux_g'; format = 'E'; unit = 'nanomaggy'\n",
       "    name = 'fiberflux_r'; format = 'E'; unit = 'nanomaggy'\n",
       "    name = 'fiberflux_z'; format = 'E'; unit = 'nanomaggy'\n",
       "    name = 'fibertotflux_g'; format = 'E'; unit = 'nanomaggy'\n",
       "    name = 'fibertotflux_r'; format = 'E'; unit = 'nanomaggy'\n",
       "    name = 'fibertotflux_z'; format = 'E'; unit = 'nanomaggy'\n",
       "    name = 'apflux_g'; format = '8E'; unit = 'nanomaggy'\n",
       "    name = 'apflux_r'; format = '8E'; unit = 'nanomaggy'\n",
       "    name = 'apflux_z'; format = '8E'; unit = 'nanomaggy'\n",
       "    name = 'apflux_resid_g'; format = '8E'; unit = 'nanomaggy'\n",
       "    name = 'apflux_resid_r'; format = '8E'; unit = 'nanomaggy'\n",
       "    name = 'apflux_resid_z'; format = '8E'; unit = 'nanomaggy'\n",
       "    name = 'apflux_blobresid_g'; format = '8E'; unit = 'nanomaggy'\n",
       "    name = 'apflux_blobresid_r'; format = '8E'; unit = 'nanomaggy'\n",
       "    name = 'apflux_blobresid_z'; format = '8E'; unit = 'nanomaggy'\n",
       "    name = 'apflux_ivar_g'; format = '8E'; unit = '1/nanomaggy^2'\n",
       "    name = 'apflux_ivar_r'; format = '8E'; unit = '1/nanomaggy^2'\n",
       "    name = 'apflux_ivar_z'; format = '8E'; unit = '1/nanomaggy^2'\n",
       "    name = 'apflux_masked_g'; format = '8E'\n",
       "    name = 'apflux_masked_r'; format = '8E'\n",
       "    name = 'apflux_masked_z'; format = '8E'\n",
       "    name = 'mw_transmission_g'; format = 'E'\n",
       "    name = 'mw_transmission_r'; format = 'E'\n",
       "    name = 'mw_transmission_z'; format = 'E'\n",
       "    name = 'mw_transmission_w1'; format = 'E'\n",
       "    name = 'mw_transmission_w2'; format = 'E'\n",
       "    name = 'mw_transmission_w3'; format = 'E'\n",
       "    name = 'mw_transmission_w4'; format = 'E'\n",
       "    name = 'nobs_g'; format = 'I'\n",
       "    name = 'nobs_r'; format = 'I'\n",
       "    name = 'nobs_z'; format = 'I'\n",
       "    name = 'nobs_w1'; format = 'I'\n",
       "    name = 'nobs_w2'; format = 'I'\n",
       "    name = 'nobs_w3'; format = 'I'\n",
       "    name = 'nobs_w4'; format = 'I'\n",
       "    name = 'rchisq_g'; format = 'E'\n",
       "    name = 'rchisq_r'; format = 'E'\n",
       "    name = 'rchisq_z'; format = 'E'\n",
       "    name = 'rchisq_w1'; format = 'E'\n",
       "    name = 'rchisq_w2'; format = 'E'\n",
       "    name = 'rchisq_w3'; format = 'E'\n",
       "    name = 'rchisq_w4'; format = 'E'\n",
       "    name = 'fracflux_g'; format = 'E'\n",
       "    name = 'fracflux_r'; format = 'E'\n",
       "    name = 'fracflux_z'; format = 'E'\n",
       "    name = 'fracflux_w1'; format = 'E'\n",
       "    name = 'fracflux_w2'; format = 'E'\n",
       "    name = 'fracflux_w3'; format = 'E'\n",
       "    name = 'fracflux_w4'; format = 'E'\n",
       "    name = 'fracmasked_g'; format = 'E'\n",
       "    name = 'fracmasked_r'; format = 'E'\n",
       "    name = 'fracmasked_z'; format = 'E'\n",
       "    name = 'fracin_g'; format = 'E'\n",
       "    name = 'fracin_r'; format = 'E'\n",
       "    name = 'fracin_z'; format = 'E'\n",
       "    name = 'anymask_g'; format = 'I'\n",
       "    name = 'anymask_r'; format = 'I'\n",
       "    name = 'anymask_z'; format = 'I'\n",
       "    name = 'allmask_g'; format = 'I'\n",
       "    name = 'allmask_r'; format = 'I'\n",
       "    name = 'allmask_z'; format = 'I'\n",
       "    name = 'wisemask_w1'; format = 'B'\n",
       "    name = 'wisemask_w2'; format = 'B'\n",
       "    name = 'psfsize_g'; format = 'E'; unit = 'arcsec'\n",
       "    name = 'psfsize_r'; format = 'E'; unit = 'arcsec'\n",
       "    name = 'psfsize_z'; format = 'E'; unit = 'arcsec'\n",
       "    name = 'psfdepth_g'; format = 'E'; unit = '1/nanomaggy^2'\n",
       "    name = 'psfdepth_r'; format = 'E'; unit = '1/nanomaggy^2'\n",
       "    name = 'psfdepth_z'; format = 'E'; unit = '1/nanomaggy^2'\n",
       "    name = 'galdepth_g'; format = 'E'; unit = '1/nanomaggy^2'\n",
       "    name = 'galdepth_r'; format = 'E'; unit = '1/nanomaggy^2'\n",
       "    name = 'galdepth_z'; format = 'E'; unit = '1/nanomaggy^2'\n",
       "    name = 'nea_g'; format = 'E'\n",
       "    name = 'nea_r'; format = 'E'\n",
       "    name = 'nea_z'; format = 'E'\n",
       "    name = 'blob_nea_g'; format = 'E'\n",
       "    name = 'blob_nea_r'; format = 'E'\n",
       "    name = 'blob_nea_z'; format = 'E'\n",
       "    name = 'psfdepth_w1'; format = 'E'; unit = '1/nanomaggy^2'\n",
       "    name = 'psfdepth_w2'; format = 'E'; unit = '1/nanomaggy^2'\n",
       "    name = 'psfdepth_w3'; format = 'E'; unit = '1/nanomaggy^2'\n",
       "    name = 'psfdepth_w4'; format = 'E'; unit = '1/nanomaggy^2'\n",
       "    name = 'wise_coadd_id'; format = '8A'\n",
       "    name = 'wise_x'; format = 'E'\n",
       "    name = 'wise_y'; format = 'E'\n",
       "    name = 'lc_flux_w1'; format = '15E'; unit = 'nanomaggy'\n",
       "    name = 'lc_flux_w2'; format = '15E'; unit = 'nanomaggy'\n",
       "    name = 'lc_flux_ivar_w1'; format = '15E'; unit = '1/nanomaggy^2'\n",
       "    name = 'lc_flux_ivar_w2'; format = '15E'; unit = '1/nanomaggy^2'\n",
       "    name = 'lc_nobs_w1'; format = '15I'\n",
       "    name = 'lc_nobs_w2'; format = '15I'\n",
       "    name = 'lc_fracflux_w1'; format = '15E'\n",
       "    name = 'lc_fracflux_w2'; format = '15E'\n",
       "    name = 'lc_rchisq_w1'; format = '15E'\n",
       "    name = 'lc_rchisq_w2'; format = '15E'\n",
       "    name = 'lc_mjd_w1'; format = '15D'\n",
       "    name = 'lc_mjd_w2'; format = '15D'\n",
       "    name = 'lc_epoch_index_w1'; format = '15I'\n",
       "    name = 'lc_epoch_index_w2'; format = '15I'\n",
       "    name = 'sersic'; format = 'E'\n",
       "    name = 'sersic_ivar'; format = 'E'\n",
       "    name = 'shape_r'; format = 'E'; unit = 'arcsec'\n",
       "    name = 'shape_r_ivar'; format = 'E'; unit = '1/arcsec^2'\n",
       "    name = 'shape_e1'; format = 'E'\n",
       "    name = 'shape_e1_ivar'; format = 'E'\n",
       "    name = 'shape_e2'; format = 'E'\n",
       "    name = 'shape_e2_ivar'; format = 'E'\n",
       ")"
      ]
     },
     "execution_count": 105,
     "metadata": {},
     "output_type": "execute_result"
    }
   ],
   "source": [
    "output.columns"
   ]
  },
  {
   "cell_type": "code",
   "execution_count": 99,
   "metadata": {},
   "outputs": [],
   "source": [
    "cat1 = SkyCoord(ra=output['ra']*units.degree, dec=output['dec']*units.degree)\n",
    "cat2 = SkyCoord(ra=Input['ra']*units.degree, dec=Input['dec']*units.degree)\n",
    "i2, d2d, d3d = cat2.match_to_catalog_sky(cat1,nthneighbor=1) "
   ]
  },
  {
   "cell_type": "code",
   "execution_count": 100,
   "metadata": {},
   "outputs": [
    {
     "data": {
      "text/plain": [
       "array([  8.84051425e-05,   8.38499429e-03,   6.26390235e-06,\n",
       "         1.07585192e-05,   3.41286842e-03,   6.74860206e-05,\n",
       "         2.16208320e-06,   3.83100473e-05,   2.08445283e-05,\n",
       "         1.15623920e-05,   2.67828304e-05,   4.76142645e-05,\n",
       "         6.28553237e-05,   1.45824425e-05,   2.84710363e-06,\n",
       "         5.55333152e-06,   4.38772852e-05,   4.65443518e-05,\n",
       "         1.51750932e-05,   1.68073433e-05,   9.76481047e-05,\n",
       "         3.85725803e-06,   7.97460743e-06,   2.69619665e-05,\n",
       "         5.76177912e-05,   1.80150263e-04,   2.54498914e-06,\n",
       "         2.39282325e-06,   2.89730759e-05,   1.05387819e-05,\n",
       "         3.62751212e-05,   4.35836560e-05,   8.33286035e-06,\n",
       "         3.47086157e-05,   1.92558612e-05,   9.21982799e-06,\n",
       "         2.72912394e-05,   1.34907744e-02,   3.70760422e-05,\n",
       "         1.14296355e-06,   5.88648135e-05,   5.87914544e-06,\n",
       "         1.29685156e-06,   4.28778332e-05,   5.22492424e-05,\n",
       "         3.78313200e-05,   4.02545106e-05,   3.62853835e-05,\n",
       "         2.04163707e-05,   9.00655865e-06,   3.49954901e-05,\n",
       "         7.72853043e-05,   4.06285622e-06,   3.49055912e-05,\n",
       "         8.43875603e-06,   3.85713827e-04,   5.83562409e-05,\n",
       "         1.22051073e-05,   4.13000065e-05,   1.78592622e-06,\n",
       "         1.90395634e-05,   1.03102771e-05,   4.48114428e-05,\n",
       "         3.60808182e-05,   2.15543207e-05,   5.05975663e-04,\n",
       "         2.31528595e-06,   5.85151286e-06,   3.10058162e-06,\n",
       "         1.02305822e-05,   1.58466365e-05,   7.31855798e-06,\n",
       "         4.00642717e-05,   4.23187926e-05,   1.25297416e-05,\n",
       "         1.25587216e-04,   3.85562760e-05,   2.72976645e-06,\n",
       "         3.51760431e-05,   1.36666754e-05,   3.58387554e-05,\n",
       "         1.50611962e-05,   7.20553130e-05,   4.05369038e-06,\n",
       "         5.66882514e-06,   6.04504282e-05,   1.13785968e-05,\n",
       "         1.35038693e-05,   1.75764007e-04,   6.09857409e-06,\n",
       "         7.56375590e-06,   2.07662411e-06,   7.57394553e-05,\n",
       "         8.98298167e-06,   3.34528450e-05,   5.08639667e-05,\n",
       "         1.13193143e-05,   8.05274411e-05,   1.51147089e-05,\n",
       "         1.21445227e-03,   5.66873437e-06,   1.35698431e-05,\n",
       "         2.31664073e-05,   2.16654409e-05,   5.28726474e-05,\n",
       "         1.89967860e-05,   1.46348815e-02,   1.38859526e-04,\n",
       "         2.88815254e-06,   1.63960654e-05,   8.16049342e-06,\n",
       "         8.70021964e-06,   2.20194318e-03,   6.18645699e-06,\n",
       "         2.48894519e-05,   2.70543384e-05,   1.67689784e-05,\n",
       "         2.12069603e-06,   1.78710919e-06,   1.25944795e-05,\n",
       "         3.09842111e-05,   1.92079745e-05,   1.45998143e-05,\n",
       "         6.67415240e-05,   6.28088964e-06,   1.04367672e-05,\n",
       "         2.14144780e-05,   2.45520242e-05,   1.71452425e-05,\n",
       "         1.50452420e-05,   8.25585756e-06,   2.93046030e-04,\n",
       "         9.25851770e-06,   4.04133440e-05,   4.81909409e-05,\n",
       "         3.95428848e-07,   3.40829507e-06,   1.66756835e-05,\n",
       "         2.03313830e-06,   2.43496987e-05,   9.99373483e-05,\n",
       "         3.99233382e-05,   3.80318356e-05,   1.76331234e-05,\n",
       "         8.72935494e-07,   1.04188126e-05,   8.46885077e-06,\n",
       "         6.14147909e-05,   2.61779491e-05,   4.75879672e-03,\n",
       "         2.38619634e-05,   9.12110240e-06,   1.23236783e-04,\n",
       "         1.71747283e-05,   1.45165541e-05,   3.45718715e-06,\n",
       "         1.86266798e-05,   2.24392367e-05,   7.94342359e-05,\n",
       "         1.82427977e-05,   9.96971650e-06,   1.15907280e-05,\n",
       "         1.08804382e-05,   3.81616202e-06,   2.37364143e-05,\n",
       "         3.27331449e-05,   1.98433759e-05,   2.89083203e-05,\n",
       "         9.79647339e-04,   6.20100178e-06,   9.64693924e-06,\n",
       "         1.67850760e-02,   2.47634503e-05,   1.89075366e-05,\n",
       "         1.03740751e-04,   5.47763420e-06,   8.89559970e-03,\n",
       "         5.39244044e-06,   2.97756559e-06,   1.89344212e-05,\n",
       "         6.78426307e-05,   3.05202002e-05,   7.80601790e-06,\n",
       "         5.42255858e-05,   7.21052780e-06,   8.10859074e-06,\n",
       "         9.21132649e-06,   4.16098042e-05,   8.34309529e-06,\n",
       "         1.22534797e-05,   1.69774897e-06,   3.05403802e-05,\n",
       "         4.17136369e-06,   1.17941800e-06,   5.18377031e-06,\n",
       "         4.15663218e-05,   6.34726869e-05,   5.76849815e-04,\n",
       "         1.42950454e-05,   1.98614276e-05])"
      ]
     },
     "execution_count": 100,
     "metadata": {},
     "output_type": "execute_result"
    }
   ],
   "source": [
    "np.array(d2d)"
   ]
  },
  {
   "cell_type": "code",
   "execution_count": 101,
   "metadata": {},
   "outputs": [
    {
     "name": "stderr",
     "output_type": "stream",
     "text": [
      "/global/common/software/desi/cori/desiconda/20180709-1.2.6-spec/conda/lib/python3.6/site-packages/ipykernel/__main__.py:1: RuntimeWarning: invalid value encountered in greater\n",
      "  if __name__ == '__main__':\n"
     ]
    },
    {
     "data": {
      "text/plain": [
       "array([ 20.40017319,  21.65522003,  20.9503746 ,  22.48120117,\n",
       "        21.20921135,          nan,  20.45384026,  19.73536873,\n",
       "        20.59887695,  22.10268593,  20.30782318,  20.12578583,\n",
       "        20.50602531,  21.83046341,  22.62273788,  21.50573158,\n",
       "        18.63573837,  20.98929977,  20.9128437 ,  20.57239723,\n",
       "        20.54993248,  22.26439667,  21.14537621,  20.26626587,\n",
       "        18.86264038,  22.22913933,  21.222435  ,  20.13798523,\n",
       "        20.3553009 ,  20.3288517 ,  21.79728127,  20.88215256,\n",
       "        19.90959549,  19.75010872,  21.28957558,  18.23202133,\n",
       "        19.13120842,  20.30302429,  19.10154915,  20.34697342,\n",
       "        20.27000618,  20.85517311,  20.04290009,  20.65600967,\n",
       "        22.34615707,  20.26248741,  20.48620415,  22.0775032 ,\n",
       "        20.29737473,  21.18727684,  19.81835747,  21.34545517,\n",
       "        20.99480438,  21.44148827,  19.44186783,  21.27399254,\n",
       "        22.14195251,  22.02966118,  19.98100281,  19.81030846,\n",
       "        19.75333595,          nan,  18.00606155,  22.01616287,\n",
       "        21.01521111,  20.42922974,  19.40083504,  19.34341431,\n",
       "        21.33806229,  22.22681427,  19.11902237,  23.83524704,\n",
       "        19.62827873,  21.24440002,  19.97337341,  20.70641136,\n",
       "        19.65861511,  21.25134468,  21.2783432 ,  19.7575779 ,\n",
       "        20.50714684,  17.93029022,  20.50933075,  19.76764297,\n",
       "        22.87777138,  20.14653969,  20.58619308,  20.5012455 ,\n",
       "        19.9356842 ,  20.91800308,  20.74969482,  20.55208778,\n",
       "        21.11733437,  19.18292427,  21.17733383,          nan,\n",
       "        24.11893654,          nan,  19.85050583,  20.86897087,\n",
       "                nan,  22.96840096,  21.3870697 ,  20.71404266,\n",
       "        20.60224915,  20.76270294,  21.82006645,  20.55071068,\n",
       "        23.34455299,  19.21626091,  19.39592743,  20.84768105,\n",
       "        21.75183487,  19.46748352,  21.72148705,  22.36430931,\n",
       "        22.10002327,  20.59466553,  20.34034348,  20.93180275,\n",
       "        20.88560104,  22.00799561,  20.32705116,  19.65657616,\n",
       "        20.19456673,  20.76693535,  21.78232765,  21.29324722,\n",
       "        21.65472603,  20.28116417,          nan,  17.14662552,\n",
       "        19.29959297,  19.49920273,  21.39168739,  21.68533325,\n",
       "        21.58490372,  21.50848007,  20.51136398,  21.09383202,\n",
       "        19.8997097 ,  21.79895401,  19.52211571,          nan,\n",
       "        21.86318588,  20.47005653,  19.87009048,  19.86421967,\n",
       "        18.23001862,  22.52594376,  21.16161728,  20.02852821,\n",
       "        22.56250954,  19.25232315,  19.7836113 ,  20.20527458,\n",
       "        21.49728203,  20.84737587,  18.78931808,          nan,\n",
       "        20.77540016,  21.95904922,  21.37313271,  20.77918243,\n",
       "        20.77199554,  19.01111412,  21.46003151,  22.41708374,\n",
       "        20.51614571,  19.61955261,  20.37815094,  18.62805557,\n",
       "        21.60869598,  22.04058266,  19.61041832,  21.27131271,\n",
       "        21.28751373,  22.08662796,  17.51742935,  20.62117577], dtype=float32)"
      ]
     },
     "execution_count": 101,
     "metadata": {},
     "output_type": "execute_result"
    }
   ],
   "source": [
    "sel = ag[i2]>0\n",
    "sel1 = np.array(d2d)<1e-4\n",
    "ag[i2][sel1]"
   ]
  },
  {
   "cell_type": "code",
   "execution_count": 51,
   "metadata": {},
   "outputs": [
    {
     "data": {
      "text/plain": [
       "Text(0.5,1,'real radec')"
      ]
     },
     "execution_count": 51,
     "metadata": {},
     "output_type": "execute_result"
    },
    {
     "data": {
      "image/png": "[encoded data removed]",
      "text/plain": [
       "<matplotlib.figure.Figure at 0x2aaae55e1828>"
      ]
     },
     "metadata": {},
     "output_type": "display_data"
    }
   ],
   "source": [
    "plt.plot(ag[i2][sel&sel1],Input[sel&sel1]['w1'],'r.')\n",
    "plt.xlabel('input magnitude')\n",
    "plt.ylabel('output magnitude')\n",
    "plt.title('real radec')"
   ]
  },
  {
   "cell_type": "code",
   "execution_count": 52,
   "metadata": {},
   "outputs": [
    {
     "name": "stderr",
     "output_type": "stream",
     "text": [
      "/global/common/software/desi/cori/desiconda/20180709-1.2.6-spec/conda/lib/python3.6/site-packages/ipykernel/__main__.py:1: RuntimeWarning: invalid value encountered in greater\n",
      "  if __name__ == '__main__':\n"
     ]
    },
    {
     "data": {
      "text/plain": [
       "Text(0.5,1,'real radec')"
      ]
     },
     "execution_count": 52,
     "metadata": {},
     "output_type": "execute_result"
    },
    {
     "data": {
      "image/png": "[encoded data removed]",
      "text/plain": [
       "<matplotlib.figure.Figure at 0x2aaae5cb7518>"
      ]
     },
     "metadata": {},
     "output_type": "display_data"
    }
   ],
   "source": [
    "sel = mag_g[i2]>0\n",
    "plt.plot(Input[sel&sel1]['g'],Input[sel&sel1]['g']-mag_g[i2][sel&sel1],'r.')\n",
    "plt.xlabel('input magnitude g')\n",
    "plt.ylabel('output magnitude g')\n",
    "plt.title('real radec')"
   ]
  },
  {
   "cell_type": "code",
   "execution_count": 53,
   "metadata": {},
   "outputs": [
    {
     "data": {
      "text/plain": [
       "array([ 21.87557602,  22.86791229,  23.87626648,  24.19549561,\n",
       "        21.33195114,  24.20889854,  23.35131836,  22.39918327,\n",
       "        23.67158508,  24.51592255,  24.78810883,  23.14759636,\n",
       "        20.56971359,  23.38545227,  24.06861496,  24.01154327,\n",
       "        24.14133263,  22.92885017,  25.05899429,  20.6449337 ,\n",
       "        22.24151611,  24.0806942 ,  24.5666256 ,  23.49184227,\n",
       "        23.21516609,  22.38975716,  22.98287201,  24.35832787,\n",
       "        23.39051819,  23.00539589,  23.85536766,  24.72135544,\n",
       "        23.16678238,  23.63012505,  23.06459236,  20.64845276,\n",
       "        24.16743279,  22.81142998,  21.73598099,  24.26676559,\n",
       "        24.3213253 ,  23.81571198,  23.96225166,  23.882967  ,\n",
       "        23.31925774,  23.2096653 ,  22.93559456,  22.97473526,\n",
       "        21.80353546,  23.7891674 ,  22.62340927,  23.79315948,\n",
       "        23.09815216,  23.90302086,  23.29834366,  23.01970291,\n",
       "        23.26387024,  22.81404877,  25.03882599,  23.79591751,\n",
       "        23.88565063,  23.54931831,  20.55218506,  23.18049431,\n",
       "        23.56878853,  22.77207184,  23.7739563 ,  24.54357719,\n",
       "        23.34890747,  24.03359032,  21.07227707,  25.06217384,\n",
       "        22.60250854,  24.59041786,  22.85743332,  23.28446198,\n",
       "        21.66692924,  22.61423492,  24.54193115,  23.03027725,\n",
       "        22.76429176,  22.04139328,  21.5535965 ,  24.2806263 ,\n",
       "        24.746315  ,  22.30688095,  23.14387321,  25.80996323,\n",
       "        20.79114342,  24.37384415,  24.71624756,  24.06482315,\n",
       "        23.34581947,  23.25274086,  23.71910858,  24.11267662,\n",
       "        23.7157383 ,  23.3160553 ,  22.73203087,  22.81284904,\n",
       "        23.26270294,  21.33286095,  22.87293243,  22.8674984 ,\n",
       "        22.91153717,  21.6526947 ,  21.37021255,  22.54438019,\n",
       "        24.05627251,  23.50657654,  24.80304718,  23.96586227,\n",
       "        22.46738815,  23.05449486,  24.06521416,  23.86026001,\n",
       "        23.9542141 ,  23.43662262,  24.12287521,  23.98888969,\n",
       "        22.89164925,  23.9106369 ,  22.52944946,  22.27182007,\n",
       "        22.00577354,  21.55433083,  23.81703186,  23.71222115,\n",
       "        24.4542675 ,  22.48103905,  23.53381729,  20.79106903,\n",
       "        23.66457367,  22.73792076,  25.1937561 ,  24.10149574,\n",
       "        23.6438446 ,  22.25117683,  23.99479866,  24.45522881,\n",
       "        22.32987404,  22.7556839 ,  24.46347618,  24.09675026,\n",
       "        22.80356407,  24.19959259,  21.24354553,  19.69327164,\n",
       "        23.87825203,  23.93735886,  23.23760223,  23.53733826,\n",
       "        21.57681656,  23.70244789,  22.06025887,  22.99870491,\n",
       "        21.89627266,  19.51094627,  21.36963844,  23.65034676,\n",
       "        24.13770103,  24.22187614,  21.85960007,  24.0204277 ,\n",
       "        23.20945168,  23.98518181,  21.81621361,  24.11298561,\n",
       "        21.60002327,  22.72629547,  21.6095562 ,  24.26359177,\n",
       "        22.6776638 ,  22.2760601 ,  22.61200523,  24.34434128,\n",
       "        23.61974716,  19.39526558,  23.33853722], dtype=float32)"
      ]
     },
     "execution_count": 53,
     "metadata": {},
     "output_type": "execute_result"
    }
   ],
   "source": [
    "mag_g[i2][sel&sel1]"
   ]
  },
  {
   "cell_type": "code",
   "execution_count": 54,
   "metadata": {},
   "outputs": [
    {
     "data": {
      "text/plain": [
       "array([ 22.02845955,  23.26121902,  23.64431381,  24.06077766,\n",
       "        21.3105545 ,  24.43519402,  23.42446899,  22.45339966,\n",
       "        24.11582184,  24.39039612,  24.14697075,  23.09618759,\n",
       "        20.57699394,  23.09615517,  24.02437401,  23.84370613,\n",
       "        23.88057518,  22.85868645,  24.25583267,  20.74204063,\n",
       "        22.26735687,  24.11216354,  24.24372864,  23.47877312,\n",
       "        23.14994049,  22.00835609,  22.83946991,  24.0306282 ,\n",
       "        22.96451187,  23.23133278,  23.91631699,  24.26492882,\n",
       "        22.9947052 ,  23.96377373,  23.17425919,  20.65086937,\n",
       "        24.40050507,  22.95825005,  21.70851898,  24.28944969,\n",
       "        24.29368591,  24.00351906,  24.03656769,  23.95058632,\n",
       "        23.32237625,  23.0261631 ,  22.80259323,  23.73965645,\n",
       "        21.83312416,  23.39092064,  22.52174187,  23.04709053,\n",
       "        23.07659531,  23.67247581,  23.17256927,  23.23600578,\n",
       "        23.06678581,  22.50205994,  24.47975349,  23.90949249,\n",
       "        23.9516983 ,  23.52363396,  20.70240402,  23.1450119 ,\n",
       "        23.32305527,  22.71409225,  24.16786766,  24.40595436,\n",
       "        23.50271988,  24.15931702,  21.01963806,  24.29960251,\n",
       "        22.57802773,  24.30892563,  23.79308128,  23.29449081,\n",
       "        21.65355682,  22.64456749,  24.32125473,  22.976614  ,\n",
       "        22.67909813,  21.82728386,  21.56448936,  24.18273354,\n",
       "        24.06714439,  22.21019363,  23.05698013,  24.34438133,\n",
       "        20.7496891 ,  23.93899536,  24.18412209,  24.13058472,\n",
       "        23.44944954,  23.44562149,  23.52028275,  24.07535744,\n",
       "        23.51671219,  22.99115753,  22.83527565,  22.84438133,\n",
       "        23.16998672,  21.38183022,  22.8174305 ,  23.30369568,\n",
       "        22.94626617,  21.58780479,  21.36989403,  22.4681797 ,\n",
       "        24.28577995,  23.41505623,  24.46322632,  23.82926941,\n",
       "        22.4163723 ,  23.02021408,  23.88319206,  24.09375954,\n",
       "        23.99277878,  23.34425735,  23.91587639,  23.92830086,\n",
       "        23.09936333,  24.04504967,  22.53464317,  22.282938  ,\n",
       "        22.0960598 ,  21.47186279,  23.70384979,  23.82250023,\n",
       "        24.24662781,  22.79716301,  23.33272552,  20.81594086,\n",
       "        23.78567314,  22.67647743,  24.40205956,  23.96661377,\n",
       "        23.27964592,  22.28088951,  23.83414841,  24.19115829,\n",
       "        22.27954102,  22.97288322,  24.2805481 ,  23.92844963,\n",
       "        22.65673065,  24.29410553,  21.20114708,  19.67995071,\n",
       "        24.10692215,  23.90709305,  22.5299015 ,  23.4744091 ,\n",
       "        21.5831337 ,  23.64959908,  22.46192551,  23.1916523 ,\n",
       "        21.85137367,  19.47353745,  21.32173538,  23.38452339,\n",
       "        24.02131462,  23.7575264 ,  21.81773567,  23.97618103,\n",
       "        23.33808899,  23.85813522,  21.92837334,  24.40724564,\n",
       "        21.55764389,  22.7680397 ,  21.61884308,  24.29422951,\n",
       "        22.78878975,  22.28086472,  23.76651573,  23.99672699,\n",
       "        23.66541862,  19.37409592,  23.30220604], dtype=float32)"
      ]
     },
     "execution_count": 54,
     "metadata": {},
     "output_type": "execute_result"
    }
   ],
   "source": [
    "Input[sel&sel1]['g']"
   ]
  },
  {
   "cell_type": "code",
   "execution_count": 102,
   "metadata": {},
   "outputs": [
    {
     "data": {
      "text/plain": [
       "Text(0.5,1,'real radec')"
      ]
     },
     "execution_count": 102,
     "metadata": {},
     "output_type": "execute_result"
    },
    {
     "data": {
      "image/png": "[encoded data removed]",
      "text/plain": [
       "<matplotlib.figure.Figure at 0x2aaae57cb9b0>"
      ]
     },
     "metadata": {},
     "output_type": "display_data"
    }
   ],
   "source": [
    "plt.plot(Input[sel&sel1]['w1'],ag[i2][sel*sel1]-Input[sel&sel1]['w1'],'r.')\n",
    "plt.xlabel('input magnitude')\n",
    "plt.ylabel('output-input mag')\n",
    "plt.title('real radec')"
   ]
  },
  {
   "cell_type": "code",
   "execution_count": 56,
   "metadata": {},
   "outputs": [
    {
     "name": "stderr",
     "output_type": "stream",
     "text": [
      "/global/common/software/desi/cori/desiconda/20180709-1.2.6-spec/conda/lib/python3.6/site-packages/ipykernel/__main__.py:4: RuntimeWarning: invalid value encountered in log10\n"
     ]
    }
   ],
   "source": [
    "input_mag = Input[sel&sel1]['w1']\n",
    "output_mag = ag[i2][sel*sel1]\n",
    "\n",
    "ag= 22.5 - 2.5 * np.log10(flux / mwtransmission)\n",
    "\n",
    "input_flux = 10**(-(input_mag-22.5)/2.5)\n",
    "output_flux = 10**(-(output_mag-22.5)/2.5)"
   ]
  },
  {
   "cell_type": "code",
   "execution_count": 57,
   "metadata": {},
   "outputs": [
    {
     "data": {
      "text/plain": [
       "Text(0.5,1,'real source')"
      ]
     },
     "execution_count": 57,
     "metadata": {},
     "output_type": "execute_result"
    },
    {
     "data": {
      "image/png": "[encoded data removed]",
      "text/plain": [
       "<matplotlib.figure.Figure at 0x2aaae5be5eb8>"
      ]
     },
     "metadata": {},
     "output_type": "display_data"
    }
   ],
   "source": [
    "plt.plot(input_flux,input_flux-output_flux,'r.')\n",
    "plt.xlabel('input flux')\n",
    "plt.ylabel('output-input flux')\n",
    "plt.title('real source')\n"
   ]
  },
  {
   "cell_type": "code",
   "execution_count": 103,
   "metadata": {},
   "outputs": [
    {
     "ename": "ValueError",
     "evalue": "operands could not be broadcast together with shapes (200,) (179,) ",
     "output_type": "error",
     "traceback": [
      "\u001b[0;31m---------------------------------------------------------------------------\u001b[0m",
      "\u001b[0;31mValueError\u001b[0m                                Traceback (most recent call last)",
      "\u001b[0;32m<ipython-input-103-19d7db8aa8af>\u001b[0m in \u001b[0;36m<module>\u001b[0;34m()\u001b[0m\n\u001b[0;32m----> 1\u001b[0;31m \u001b[0mplt\u001b[0m\u001b[0;34m.\u001b[0m\u001b[0mplot\u001b[0m\u001b[0;34m(\u001b[0m\u001b[0minput_flux\u001b[0m\u001b[0;34m,\u001b[0m\u001b[0;34m(\u001b[0m\u001b[0minput_flux\u001b[0m\u001b[0;34m-\u001b[0m\u001b[0moutput_flux\u001b[0m\u001b[0;34m)\u001b[0m\u001b[0;34m*\u001b[0m\u001b[0mnp\u001b[0m\u001b[0;34m.\u001b[0m\u001b[0msqrt\u001b[0m\u001b[0;34m(\u001b[0m\u001b[0moutput\u001b[0m\u001b[0;34m[\u001b[0m\u001b[0;34m'flux_ivar_w1'\u001b[0m\u001b[0;34m]\u001b[0m\u001b[0;34m[\u001b[0m\u001b[0mi2\u001b[0m\u001b[0;34m]\u001b[0m\u001b[0;34m[\u001b[0m\u001b[0msel\u001b[0m\u001b[0;34m&\u001b[0m\u001b[0msel1\u001b[0m\u001b[0;34m]\u001b[0m\u001b[0;34m)\u001b[0m\u001b[0;34m,\u001b[0m\u001b[0;34m'r.'\u001b[0m\u001b[0;34m)\u001b[0m\u001b[0;34m\u001b[0m\u001b[0m\n\u001b[0m\u001b[1;32m      2\u001b[0m \u001b[0mplt\u001b[0m\u001b[0;34m.\u001b[0m\u001b[0mxlabel\u001b[0m\u001b[0;34m(\u001b[0m\u001b[0;34m'input flux'\u001b[0m\u001b[0;34m)\u001b[0m\u001b[0;34m\u001b[0m\u001b[0m\n\u001b[1;32m      3\u001b[0m \u001b[0mplt\u001b[0m\u001b[0;34m.\u001b[0m\u001b[0mylabel\u001b[0m\u001b[0;34m(\u001b[0m\u001b[0;34m'output-input flux'\u001b[0m\u001b[0;34m)\u001b[0m\u001b[0;34m\u001b[0m\u001b[0m\n\u001b[1;32m      4\u001b[0m \u001b[0mplt\u001b[0m\u001b[0;34m.\u001b[0m\u001b[0mtitle\u001b[0m\u001b[0;34m(\u001b[0m\u001b[0;34m'real source'\u001b[0m\u001b[0;34m)\u001b[0m\u001b[0;34m\u001b[0m\u001b[0m\n",
      "\u001b[0;31mValueError\u001b[0m: operands could not be broadcast together with shapes (200,) (179,) "
     ]
    }
   ],
   "source": [
    "plt.plot(input_flux,(input_flux-output_flux)*np.sqrt(output['flux_ivar_w1'][i2][sel&sel1]),'r.')\n",
    "plt.xlabel('input flux')\n",
    "plt.ylabel('output-input flux')\n",
    "plt.title('real source')"
   ]
  },
  {
   "cell_type": "code",
   "execution_count": 104,
   "metadata": {},
   "outputs": [
    {
     "ename": "ValueError",
     "evalue": "operands could not be broadcast together with shapes (200,) (179,) ",
     "output_type": "error",
     "traceback": [
      "\u001b[0;31m---------------------------------------------------------------------------\u001b[0m",
      "\u001b[0;31mValueError\u001b[0m                                Traceback (most recent call last)",
      "\u001b[0;32m<ipython-input-104-b8a61552cc00>\u001b[0m in \u001b[0;36m<module>\u001b[0;34m()\u001b[0m\n\u001b[0;32m----> 1\u001b[0;31m \u001b[0mls\u001b[0m\u001b[0;34m=\u001b[0m\u001b[0;34m(\u001b[0m\u001b[0minput_flux\u001b[0m\u001b[0;34m-\u001b[0m\u001b[0moutput_flux\u001b[0m\u001b[0;34m)\u001b[0m\u001b[0;34m*\u001b[0m\u001b[0mnp\u001b[0m\u001b[0;34m.\u001b[0m\u001b[0msqrt\u001b[0m\u001b[0;34m(\u001b[0m\u001b[0moutput\u001b[0m\u001b[0;34m[\u001b[0m\u001b[0;34m'flux_ivar_w1'\u001b[0m\u001b[0;34m]\u001b[0m\u001b[0;34m[\u001b[0m\u001b[0mi2\u001b[0m\u001b[0;34m]\u001b[0m\u001b[0;34m[\u001b[0m\u001b[0msel\u001b[0m\u001b[0;34m&\u001b[0m\u001b[0msel1\u001b[0m\u001b[0;34m]\u001b[0m\u001b[0;34m)\u001b[0m\u001b[0;34m\u001b[0m\u001b[0m\n\u001b[0m",
      "\u001b[0;31mValueError\u001b[0m: operands could not be broadcast together with shapes (200,) (179,) "
     ]
    }
   ],
   "source": [
    "ls=(input_flux-output_flux)*np.sqrt(output['flux_ivar_w1'][i2][sel&sel1])"
   ]
  },
  {
   "cell_type": "code",
   "execution_count": 64,
   "metadata": {},
   "outputs": [
    {
     "data": {
      "text/plain": [
       "179"
      ]
     },
     "execution_count": 64,
     "metadata": {},
     "output_type": "execute_result"
    }
   ],
   "source": [
    "len(ls)"
   ]
  },
  {
   "cell_type": "code",
   "execution_count": 66,
   "metadata": {},
   "outputs": [
    {
     "data": {
      "text/plain": [
       "121.72000000000001"
      ]
     },
     "execution_count": 66,
     "metadata": {},
     "output_type": "execute_result"
    }
   ],
   "source": [
    "179*0.68"
   ]
  },
  {
   "cell_type": "code",
   "execution_count": 65,
   "metadata": {},
   "outputs": [
    {
     "name": "stderr",
     "output_type": "stream",
     "text": [
      "/global/common/software/desi/cori/desiconda/20180709-1.2.6-spec/conda/lib/python3.6/site-packages/ipykernel/__main__.py:1: RuntimeWarning: invalid value encountered in less\n",
      "  if __name__ == '__main__':\n"
     ]
    },
    {
     "data": {
      "text/plain": [
       "35"
      ]
     },
     "execution_count": 65,
     "metadata": {},
     "output_type": "execute_result"
    }
   ],
   "source": [
    "(np.abs(ls)<1).sum()"
   ]
  },
  {
   "cell_type": "code",
   "execution_count": 70,
   "metadata": {},
   "outputs": [
    {
     "name": "stderr",
     "output_type": "stream",
     "text": [
      "/global/common/software/desi/cori/desiconda/20180709-1.2.6-spec/conda/lib/python3.6/site-packages/ipykernel/__main__.py:1: RuntimeWarning: invalid value encountered in less\n",
      "  if __name__ == '__main__':\n"
     ]
    },
    {
     "data": {
      "text/plain": [
       "122"
      ]
     },
     "execution_count": 70,
     "metadata": {},
     "output_type": "execute_result"
    }
   ],
   "source": [
    "(np.abs(ls)<4).sum()"
   ]
  },
  {
   "cell_type": "code",
   "execution_count": 72,
   "metadata": {},
   "outputs": [
    {
     "name": "stderr",
     "output_type": "stream",
     "text": [
      "/global/common/software/desi/cori/desiconda/20180709-1.2.6-spec/conda/lib/python3.6/site-packages/ipykernel/__main__.py:1: RuntimeWarning: invalid value encountered in log10\n",
      "  if __name__ == '__main__':\n",
      "/global/common/software/desi/cori/desiconda/20180709-1.2.6-spec/conda/lib/python3.6/site-packages/ipykernel/__main__.py:3: RuntimeWarning: invalid value encountered in greater\n",
      "  app.launch_new_instance()\n"
     ]
    }
   ],
   "source": [
    "mag_g = 22.5 - 2.5 * np.log10(output['flux_g'] / output['mw_transmission_g'])\n",
    "sel1 = np.array(d2d)<1e-4\n"
   ]
  },
  {
   "cell_type": "code",
   "execution_count": 84,
   "metadata": {},
   "outputs": [],
   "source": [
    "flux_g=output['flux_g']/output['mw_transmission_g']\n",
    "\n",
    "input_flux = 10**(-(Input['g']-22.5)/2.5)\n",
    "sel2 = input_flux>0\n",
    "lsg=(flux_g[i2][sel1&sel2]-input_flux[sel1&sel2])*np.sqrt((output['flux_ivar_g'][i2][sel1&sel2]))"
   ]
  },
  {
   "cell_type": "code",
   "execution_count": 85,
   "metadata": {},
   "outputs": [
    {
     "data": {
      "text/plain": [
       "180"
      ]
     },
     "execution_count": 85,
     "metadata": {},
     "output_type": "execute_result"
    }
   ],
   "source": [
    "len(lsg)"
   ]
  },
  {
   "cell_type": "code",
   "execution_count": 86,
   "metadata": {},
   "outputs": [
    {
     "data": {
      "text/plain": [
       "122.4"
      ]
     },
     "execution_count": 86,
     "metadata": {},
     "output_type": "execute_result"
    }
   ],
   "source": [
    "180*0.68"
   ]
  },
  {
   "cell_type": "code",
   "execution_count": 88,
   "metadata": {},
   "outputs": [
    {
     "data": {
      "text/plain": [
       "105"
      ]
     },
     "execution_count": 88,
     "metadata": {},
     "output_type": "execute_result"
    }
   ],
   "source": [
    "(np.abs(lsg)<2).sum()"
   ]
  },
  {
   "cell_type": "code",
   "execution_count": 89,
   "metadata": {},
   "outputs": [
    {
     "data": {
      "text/plain": [
       "-0.56124872"
      ]
     },
     "execution_count": 89,
     "metadata": {},
     "output_type": "execute_result"
    }
   ],
   "source": [
    "lsg.mean()"
   ]
  },
  {
   "cell_type": "code",
   "execution_count": 92,
   "metadata": {},
   "outputs": [
    {
     "data": {
      "text/plain": [
       "163"
      ]
     },
     "execution_count": 92,
     "metadata": {},
     "output_type": "execute_result"
    }
   ],
   "source": [
    "(np.abs(lsg)<5).sum()"
   ]
  },
  {
   "cell_type": "code",
   "execution_count": 93,
   "metadata": {},
   "outputs": [
    {
     "data": {
      "text/plain": [
       "110.84"
      ]
     },
     "execution_count": 93,
     "metadata": {},
     "output_type": "execute_result"
    }
   ],
   "source": [
    "163*0.68"
   ]
  },
  {
   "cell_type": "code",
   "execution_count": null,
   "metadata": {},
   "outputs": [],
   "source": []
  }
 ],
 "metadata": {
  "kernelspec": {
   "display_name": "DESI 19.2",
   "language": "python",
   "name": "desi-19.2"
  },
  "language_info": {
   "codemirror_mode": {
    "name": "ipython",
    "version": 3
   },
   "file_extension": ".py",
   "mimetype": "text/x-python",
   "name": "python",
   "nbconvert_exporter": "python",
   "pygments_lexer": "ipython3",
   "version": "3.6.6"
  }
 },
 "nbformat": 4,
 "nbformat_minor": 4
}
