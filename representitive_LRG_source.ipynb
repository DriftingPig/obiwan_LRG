{
 "cells": [
  {
   "cell_type": "markdown",
   "metadata": {},
   "source": [
    "##### LRG has some measurement bias on legacysurvey. My current guess of this indiscrepency is that the color distribution of LRGs is making this process having bias on error estimate. To test on this, I'm going to make 5 representitive points on LRG and and see if these 5 points provides similar bias as I see when populating the whole LRG sample. "
   ]
  },
  {
   "cell_type": "markdown",
   "metadata": {},
   "source": [
    "##### step 1: grab the photometric LRG sample from Ashley's sample"
   ]
  },
  {
   "cell_type": "code",
   "execution_count": 14,
   "metadata": {},
   "outputs": [],
   "source": [
    "%matplotlib inline\n",
    "import astropy.io.fits as fits\n",
    "import numpy as np\n",
    "import matplotlib.pyplot as plt\n",
    "fn = '/global/cscratch1/sd/ajross/tarcat/vtest/tv0.50.0/LRG_IRsv1targetsDR9v0.50.0_masked.fits'"
   ]
  },
  {
   "cell_type": "code",
   "execution_count": 15,
   "metadata": {},
   "outputs": [],
   "source": [
    "LRG = fits.getdata(fn)"
   ]
  },
  {
   "cell_type": "code",
   "execution_count": 16,
   "metadata": {},
   "outputs": [],
   "source": [
    "from tools import *"
   ]
  },
  {
   "cell_type": "code",
   "execution_count": 17,
   "metadata": {},
   "outputs": [
    {
     "name": "stderr",
     "output_type": "stream",
     "text": [
      "/global/cscratch1/sd/huikong/Obiwan/dr9_LRG/notebooks/tools.py:8: RuntimeWarning: divide by zero encountered in log10\n",
      "  mag= 22.5 - 2.5 * np.log10(flux / mwtransmission)\n",
      "/global/cscratch1/sd/huikong/Obiwan/dr9_LRG/notebooks/tools.py:8: RuntimeWarning: invalid value encountered in log10\n",
      "  mag= 22.5 - 2.5 * np.log10(flux / mwtransmission)\n"
     ]
    }
   ],
   "source": [
    "mag_g = flux2mag(LRG['flux_g'],LRG['mw_transmission_g'])\n",
    "mag_r = flux2mag(LRG['flux_r'],LRG['mw_transmission_r'])\n",
    "mag_z = flux2mag(LRG['flux_z'],LRG['mw_transmission_z'])\n",
    "mag_w1 = flux2mag(LRG['flux_w1'],LRG['mw_transmission_w1'])"
   ]
  },
  {
   "cell_type": "code",
   "execution_count": 18,
   "metadata": {},
   "outputs": [
    {
     "name": "stderr",
     "output_type": "stream",
     "text": [
      "/global/common/software/desi/cori/desiconda/20180709-1.2.6-spec/conda/lib/python3.6/site-packages/ipykernel/__main__.py:1: RuntimeWarning: invalid value encountered in greater\n",
      "  if __name__ == '__main__':\n",
      "/global/common/software/desi/cori/desiconda/20180709-1.2.6-spec/conda/lib/python3.6/site-packages/ipykernel/__main__.py:1: RuntimeWarning: invalid value encountered in less\n",
      "  if __name__ == '__main__':\n"
     ]
    }
   ],
   "source": [
    "faint_cut = (mag_g>14)&(mag_r>14)&(mag_z>14)&(mag_r<30)&(mag_z<30)&(mag_g<30)&(mag_w1>14)&(mag_w1<30)"
   ]
  },
  {
   "cell_type": "code",
   "execution_count": 19,
   "metadata": {},
   "outputs": [
    {
     "data": {
      "text/plain": [
       "0.99685631661776875"
      ]
     },
     "execution_count": 19,
     "metadata": {},
     "output_type": "execute_result"
    }
   ],
   "source": [
    "faint_cut.sum()/len(faint_cut)"
   ]
  },
  {
   "cell_type": "code",
   "execution_count": 20,
   "metadata": {},
   "outputs": [
    {
     "data": {
      "image/png": "[encoded data removed]",
      "text/plain": [
       "<matplotlib.figure.Figure at 0x2aaafe31eba8>"
      ]
     },
     "metadata": {},
     "output_type": "display_data"
    }
   ],
   "source": [
    "plt.subplot(2,2,1)\n",
    "p=plt.hist(mag_g[faint_cut],bins=100,density=True)\n",
    "plt.title('g mag')\n",
    "\n",
    "plt.subplot(2,2,2)\n",
    "p=plt.hist(mag_r[faint_cut],bins=100,density=True)\n",
    "plt.title('r mag')\n",
    "\n",
    "plt.subplot(2,2,3)\n",
    "p=plt.hist(mag_z[faint_cut],bins=100,density=True)\n",
    "plt.title('z mag')\n",
    "\n",
    "plt.subplot(2,2,4)\n",
    "p=plt.hist(mag_w1[faint_cut],bins=100,density=True)\n",
    "plt.title('w1 mag')\n",
    "\n",
    "plt.tight_layout()"
   ]
  },
  {
   "cell_type": "markdown",
   "metadata": {},
   "source": [
    "#### too big for kde, I need to cut to a smaller set"
   ]
  },
  {
   "cell_type": "code",
   "execution_count": 21,
   "metadata": {},
   "outputs": [],
   "source": [
    "samp_g = mag_g[faint_cut][::1000]\n",
    "samp_r = mag_r[faint_cut][::1000]\n",
    "samp_z = mag_z[faint_cut][::1000]\n",
    "samp_w1 = mag_w1[faint_cut][::1000]"
   ]
  },
  {
   "cell_type": "code",
   "execution_count": 22,
   "metadata": {},
   "outputs": [
    {
     "data": {
      "image/png": "[encoded data removed]",
      "text/plain": [
       "<matplotlib.figure.Figure at 0x2aaafe0faf28>"
      ]
     },
     "metadata": {},
     "output_type": "display_data"
    }
   ],
   "source": [
    "plt.subplot(2,2,1)\n",
    "p=plt.hist(samp_g,bins=20,density=True)\n",
    "plt.title('g mag')\n",
    "\n",
    "plt.subplot(2,2,2)\n",
    "p=plt.hist(samp_r,bins=20,density=True)\n",
    "plt.title('r mag')\n",
    "\n",
    "plt.subplot(2,2,3)\n",
    "p=plt.hist(samp_z,bins=20,density=True)\n",
    "plt.title('z mag')\n",
    "\n",
    "plt.subplot(2,2,4)\n",
    "p=plt.hist(samp_w1,bins=20,density=True)\n",
    "plt.title('w1 mag')\n",
    "\n",
    "plt.tight_layout()"
   ]
  },
  {
   "cell_type": "code",
   "execution_count": 23,
   "metadata": {},
   "outputs": [],
   "source": [
    "gmax = samp_g.max()\n",
    "gmin = samp_g.min()\n",
    "\n",
    "rmax = samp_r.max()\n",
    "rmin = samp_r.min()\n",
    "\n",
    "zmax = samp_z.max()\n",
    "zmin = samp_z.min()\n",
    "\n",
    "w1max = samp_w1.max()\n",
    "w1min = samp_w1.min()"
   ]
  },
  {
   "cell_type": "code",
   "execution_count": 24,
   "metadata": {},
   "outputs": [],
   "source": [
    "gbins = np.mgrid[gmin:gmax:21j]\n",
    "rbins = np.mgrid[rmin:rmax:21j]\n",
    "zbins = np.mgrid[zmin:zmax:21j]\n",
    "density = np.zeros([20,20,20])"
   ]
  },
  {
   "cell_type": "code",
   "execution_count": 25,
   "metadata": {},
   "outputs": [],
   "source": [
    "for i in range(20):\n",
    "    for  j in range(20):\n",
    "        for k in range(20):\n",
    "            g_left = gbins[i]\n",
    "            g_right = gbins[i+1]\n",
    "            r_left = rbins[j]\n",
    "            r_right = rbins[j+1]\n",
    "            z_left = zbins[k]\n",
    "            z_right = zbins[k+1]\n",
    "            sel = (samp_g>g_left)&(samp_g<g_right)&(samp_r>r_left)&(samp_r<r_right)&(samp_z>z_left)&(samp_z<z_right)\n",
    "            density[i][j][k]+=sel.sum()"
   ]
  },
  {
   "cell_type": "code",
   "execution_count": 26,
   "metadata": {},
   "outputs": [
    {
     "data": {
      "text/plain": [
       "(array([11]), array([11]), array([14]))"
      ]
     },
     "execution_count": 26,
     "metadata": {},
     "output_type": "execute_result"
    }
   ],
   "source": [
    "np.where(density==density.max())"
   ]
  },
  {
   "cell_type": "code",
   "execution_count": 27,
   "metadata": {},
   "outputs": [
    {
     "data": {
      "text/plain": [
       "395.0"
      ]
     },
     "execution_count": 27,
     "metadata": {},
     "output_type": "execute_result"
    }
   ],
   "source": [
    "density.max()"
   ]
  },
  {
   "cell_type": "code",
   "execution_count": 28,
   "metadata": {},
   "outputs": [],
   "source": [
    "high_dens_cells = np.where(density>190)"
   ]
  },
  {
   "cell_type": "code",
   "execution_count": 29,
   "metadata": {},
   "outputs": [
    {
     "data": {
      "text/plain": [
       "14"
      ]
     },
     "execution_count": 29,
     "metadata": {},
     "output_type": "execute_result"
    }
   ],
   "source": [
    "len(high_dens_cells[0])"
   ]
  },
  {
   "cell_type": "markdown",
   "metadata": {},
   "source": [
    "#### maximum density cell for LRGs"
   ]
  },
  {
   "cell_type": "markdown",
   "metadata": {},
   "source": [
    "(gbins[11]+gbins[12])/2.,(rbins[11]+rbins[12])/2.,(zbins[14]+zbins[15])/2."
   ]
  },
  {
   "cell_type": "markdown",
   "metadata": {},
   "source": [
    "#### a few (14) high density cells"
   ]
  },
  {
   "cell_type": "code",
   "execution_count": 30,
   "metadata": {},
   "outputs": [],
   "source": [
    "g_cells = np.zeros(14)\n",
    "r_cells = np.zeros(14)\n",
    "z_cells = np.zeros(14)\n",
    "for i in range(14):\n",
    "    g_i = high_dens_cells[0][i]\n",
    "    g_cells[i] = (gbins[g_i]+gbins[g_i+1])/2.\n",
    "    \n",
    "    r_i = high_dens_cells[1][i]\n",
    "    r_cells[i] = (rbins[r_i]+rbins[r_i+1])/2.\n",
    "    \n",
    "    z_i = high_dens_cells[2][i]\n",
    "    z_cells[i] = (zbins[z_i]+zbins[z_i+1])/2."
   ]
  },
  {
   "cell_type": "code",
   "execution_count": 31,
   "metadata": {},
   "outputs": [
    {
     "data": {
      "text/plain": [
       "array([ 20.94301915,  21.51687846,  22.09073777,  22.09073777,\n",
       "        22.66459708,  22.66459708,  22.66459708,  23.23845639,\n",
       "        23.23845639,  23.23845639,  23.8123157 ,  23.8123157 ,\n",
       "        23.8123157 ,  24.38617501])"
      ]
     },
     "execution_count": 31,
     "metadata": {},
     "output_type": "execute_result"
    }
   ],
   "source": [
    "g_cells"
   ]
  },
  {
   "cell_type": "code",
   "execution_count": 32,
   "metadata": {},
   "outputs": [
    {
     "data": {
      "text/plain": [
       "array([ 19.306463  ,  19.7237618 ,  20.14106059,  20.55835938,\n",
       "        20.55835938,  20.97565818,  20.97565818,  21.39295697,\n",
       "        21.39295697,  21.81025577,  21.81025577,  21.81025577,\n",
       "        22.22755456,  22.22755456])"
      ]
     },
     "execution_count": 32,
     "metadata": {},
     "output_type": "execute_result"
    }
   ],
   "source": [
    "r_cells"
   ]
  },
  {
   "cell_type": "code",
   "execution_count": 33,
   "metadata": {},
   "outputs": [
    {
     "data": {
      "text/plain": [
       "array([ 18.41237838,  18.68033307,  18.94828775,  19.21624243,\n",
       "        19.21624243,  19.48419712,  19.7521518 ,  19.7521518 ,\n",
       "        20.02010648,  20.28806117,  20.02010648,  20.28806117,\n",
       "        20.28806117,  20.28806117])"
      ]
     },
     "execution_count": 33,
     "metadata": {},
     "output_type": "execute_result"
    }
   ],
   "source": [
    "z_cells"
   ]
  },
  {
   "cell_type": "code",
   "execution_count": 34,
   "metadata": {},
   "outputs": [],
   "source": [
    "rhalf = np.clip(np.abs(np.random.normal(0,0.4,14)),0,3)"
   ]
  },
  {
   "cell_type": "code",
   "execution_count": 35,
   "metadata": {},
   "outputs": [
    {
     "data": {
      "text/plain": [
       "array([ 0.4124491 ,  0.12557291,  0.60714328,  0.00138882,  0.29434279,\n",
       "        0.050395  ,  0.20578098,  0.05266723,  0.56841349,  0.25742532,\n",
       "        0.40990624,  0.5292394 ,  0.96595342,  0.03459678])"
      ]
     },
     "execution_count": 35,
     "metadata": {},
     "output_type": "execute_result"
    }
   ],
   "source": [
    "rhalf"
   ]
  },
  {
   "cell_type": "code",
   "execution_count": 36,
   "metadata": {},
   "outputs": [],
   "source": [
    "redshfit = np.clip(np.abs(np.random.normal(0,1,14)),0,3) #not important"
   ]
  },
  {
   "cell_type": "code",
   "execution_count": 240,
   "metadata": {},
   "outputs": [],
   "source": [
    "from astropy.table import Table\n",
    "t = Table()\n",
    "t['g'] = g_cells\n",
    "t['r'] = r_cells\n",
    "t['z'] = z_cells\n",
    "t['w1'] = np.ones(14)*19.5\n",
    "t['w2'] = np.ones(14)*19.5\n",
    "t['n'] = np.ones(14)\n",
    "t['hsc_mizuki_photoz_best'] = redshfit\n",
    "t['rhalf'] = rhalf"
   ]
  },
  {
   "cell_type": "code",
   "execution_count": 241,
   "metadata": {},
   "outputs": [],
   "source": [
    "t.write('/global/cscratch1/sd/huikong/Obiwan/dr9_LRG/obiwan_out/lrg_representitve/seed.fits',overwrite=True)"
   ]
  },
  {
   "cell_type": "markdown",
   "metadata": {},
   "source": [
    "#### next I make a run called lrg_representitve, to run only on these 14 sources"
   ]
  },
  {
   "cell_type": "code",
   "execution_count": 37,
   "metadata": {},
   "outputs": [],
   "source": [
    "fn = '/global/cscratch1/sd/huikong/Obiwan/dr9_LRG/obiwan_out/lrg_representitve/subset/sim_lrg_representitve.fits'\n",
    "lrg_representitve = fits.getdata(fn)\n",
    "lrg_representitve = lrg_representitve[lrg_representitve['detected']&(lrg_representitve['maskbits']==0)]"
   ]
  },
  {
   "cell_type": "code",
   "execution_count": 38,
   "metadata": {},
   "outputs": [
    {
     "name": "stdout",
     "output_type": "stream",
     "text": [
      "g flux mean: -0.011\n",
      "r flux mean: -0.056\n",
      "z flux mean: -0.264\n"
     ]
    },
    {
     "data": {
      "image/png": "[encoded data removed]",
      "text/plain": [
       "<matplotlib.figure.Figure at 0x2aaafe4aba20>"
      ]
     },
     "metadata": {},
     "output_type": "display_data"
    }
   ],
   "source": [
    "%matplotlib inline\n",
    "import matplotlib.pyplot as plt\n",
    "plt.subplot(2,2,1)\n",
    "plt.title('g flux')\n",
    "sel = (lrg_representitve['flux_g']>0)&(lrg_representitve['flux_g']<20)&(np.abs(lrg_representitve['flux_g']-lrg_representitve['sim_gflux'])<0.3)\n",
    "p=plt.hist(lrg_representitve[sel]['flux_g']-lrg_representitve[sel]['sim_gflux'],density=True)\n",
    "print(\"g flux mean: %.3f\" %((lrg_representitve[sel]['flux_g']-lrg_representitve[sel]['sim_gflux']).mean()))\n",
    "plt.subplot(2,2,2)\n",
    "plt.title('r flux')\n",
    "sel = (lrg_representitve['flux_r']>0)&(lrg_representitve['flux_r']<40)&(np.abs(lrg_representitve['flux_r']-lrg_representitve['sim_rflux'])<1)\n",
    "p=plt.hist(lrg_representitve[sel]['flux_r']-lrg_representitve[sel]['sim_rflux'],density=True)\n",
    "print(\"r flux mean: %.3f\" %((lrg_representitve[sel]['flux_r']-lrg_representitve[sel]['sim_rflux']).mean()))\n",
    "\n",
    "plt.subplot(2,2,3)\n",
    "plt.title('z flux')\n",
    "sel = (lrg_representitve['flux_z']>0)&(lrg_representitve['flux_z']<50)&(np.abs(lrg_representitve['flux_z']-lrg_representitve['sim_zflux'])<2)\n",
    "p=plt.hist(lrg_representitve[sel]['flux_z']-lrg_representitve[sel]['sim_zflux'],density=True)\n",
    "print(\"z flux mean: %.3f\" %((lrg_representitve[sel]['flux_z']-lrg_representitve[sel]['sim_zflux']).mean()))\n",
    "\n",
    "plt.tight_layout()\n"
   ]
  },
  {
   "cell_type": "code",
   "execution_count": 39,
   "metadata": {},
   "outputs": [
    {
     "name": "stdout",
     "output_type": "stream",
     "text": [
      "g mean: -0.453\n",
      "g std: 2.075\n",
      "r mean: -1.208\n",
      "r std: 3.689\n",
      "z mean: -2.576\n",
      "z std: 5.527\n"
     ]
    },
    {
     "data": {
      "image/png": "[encoded data removed]",
      "text/plain": [
       "<matplotlib.figure.Figure at 0x2aab9414c9e8>"
      ]
     },
     "metadata": {},
     "output_type": "display_data"
    }
   ],
   "source": [
    "plt.subplot(2,2,1)\n",
    "plt.title('delta g flux / error')\n",
    "sel = (lrg_representitve['flux_g']>0)&(lrg_representitve['flux_g']<20)&(np.abs(lrg_representitve['flux_g']-lrg_representitve['sim_gflux'])<0.3)\n",
    "x = (lrg_representitve[sel]['flux_g']-lrg_representitve[sel]['sim_gflux'])*np.sqrt(lrg_representitve[sel]['flux_ivar_g'])\n",
    "p=plt.hist(x,bins=40)\n",
    "print('g mean: %.3f'%x.mean())\n",
    "print('g std: %.3f'%x.std())\n",
    "\n",
    "plt.subplot(2,2,2)\n",
    "plt.title('delta r flux / error')\n",
    "sel = (lrg_representitve['flux_r']>0)&(lrg_representitve['flux_r']<40)&(np.abs(lrg_representitve['flux_r']-lrg_representitve['sim_rflux'])<1)\n",
    "x=(lrg_representitve[sel]['flux_r']-lrg_representitve[sel]['sim_rflux'])*np.sqrt(lrg_representitve[sel]['flux_ivar_r'])\n",
    "p=plt.hist(x,bins=40)\n",
    "print('r mean: %.3f'%x.mean())\n",
    "print('r std: %.3f'%x.std())\n",
    "\n",
    "plt.subplot(2,2,3)\n",
    "plt.title('delta z flux / error')\n",
    "sel = (lrg_representitve['flux_z']>0)&(lrg_representitve['flux_z']<50)&(np.abs(lrg_representitve['flux_z']-lrg_representitve['sim_zflux'])<2)\n",
    "x=(lrg_representitve[sel]['flux_z']-lrg_representitve[sel]['sim_zflux'])*np.sqrt(lrg_representitve[sel]['flux_ivar_z'])\n",
    "p=plt.hist(x,bins=40)\n",
    "print('z mean: %.3f'%x.mean())\n",
    "print('z std: %.3f'%x.std())\n",
    "\n",
    "\n",
    "plt.tight_layout()"
   ]
  },
  {
   "cell_type": "code",
   "execution_count": 40,
   "metadata": {},
   "outputs": [
    {
     "name": "stdout",
     "output_type": "stream",
     "text": [
      "g mean: -0.177\n",
      "g std: 1.944\n",
      "r mean: -0.554\n",
      "r std: 3.079\n",
      "z mean: -1.039\n",
      "z std: 5.327\n"
     ]
    },
    {
     "data": {
      "image/png": "[encoded data removed]",
      "text/plain": [
       "<matplotlib.figure.Figure at 0x2aaafe2a39e8>"
      ]
     },
     "metadata": {},
     "output_type": "display_data"
    }
   ],
   "source": [
    "id_sample = 7\n",
    "#relatively bright end\n",
    "\n",
    "plt.subplot(2,2,1)\n",
    "plt.title('delta g flux / error')\n",
    "sel = (lrg_representitve['flux_g']>0)&(lrg_representitve['flux_g']<20)&(np.abs(lrg_representitve['flux_g']-lrg_representitve['sim_gflux'])<0.3)\n",
    "sel2 = (lrg_representitve['id_sample']==id_sample)\n",
    "sel = sel&sel2\n",
    "x = (lrg_representitve[sel]['flux_g']-lrg_representitve[sel]['sim_gflux'])*np.sqrt(lrg_representitve[sel]['flux_ivar_g'])\n",
    "p=plt.hist(x,bins=40)\n",
    "print('g mean: %.3f'%x.mean())\n",
    "print('g std: %.3f'%x.std())\n",
    "\n",
    "plt.subplot(2,2,2)\n",
    "plt.title('delta r flux / error')\n",
    "sel = (lrg_representitve['flux_r']>0)&(lrg_representitve['flux_r']<40)&(np.abs(lrg_representitve['flux_r']-lrg_representitve['sim_rflux'])<1)\n",
    "sel2 = (lrg_representitve['id_sample']==id_sample)\n",
    "sel = sel&sel2\n",
    "x=(lrg_representitve[sel]['flux_r']-lrg_representitve[sel]['sim_rflux'])*np.sqrt(lrg_representitve[sel]['flux_ivar_r'])\n",
    "p=plt.hist(x,bins=40)\n",
    "print('r mean: %.3f'%x.mean())\n",
    "print('r std: %.3f'%x.std())\n",
    "\n",
    "plt.subplot(2,2,3)\n",
    "plt.title('delta z flux / error')\n",
    "sel = (lrg_representitve['flux_z']>0)&(lrg_representitve['flux_z']<50)&(np.abs(lrg_representitve['flux_z']-lrg_representitve['sim_zflux'])<4)\n",
    "sel2 = (lrg_representitve['id_sample']==id_sample)\n",
    "sel = sel&sel2\n",
    "x=(lrg_representitve[sel]['flux_z']-lrg_representitve[sel]['sim_zflux'])*np.sqrt(lrg_representitve[sel]['flux_ivar_z'])\n",
    "p=plt.hist(x,bins=40)\n",
    "print('z mean: %.3f'%x.mean())\n",
    "print('z std: %.3f'%x.std())\n",
    "\n",
    "\n",
    "plt.tight_layout()\n"
   ]
  },
  {
   "cell_type": "code",
   "execution_count": 72,
   "metadata": {},
   "outputs": [
    {
     "name": "stdout",
     "output_type": "stream",
     "text": [
      "g mean: -0.060\n",
      "g std: 0.050\n",
      "r mean: -0.305\n",
      "r std: 0.140\n",
      "z mean: -1.155\n",
      "z std: 0.571\n"
     ]
    },
    {
     "data": {
      "image/png": "[encoded data removed]",
      "text/plain": [
       "<matplotlib.figure.Figure at 0x2aaae4d43d30>"
      ]
     },
     "metadata": {},
     "output_type": "display_data"
    }
   ],
   "source": [
    "id_sample = 0\n",
    "#relatively bright end\n",
    "\n",
    "plt.subplot(2,2,1)\n",
    "plt.title('delta g flux / error')\n",
    "sel = (lrg_representitve['flux_g']>0)&(lrg_representitve['flux_g']<20)&(np.abs(lrg_representitve['flux_g']-lrg_representitve['sim_gflux'])<0.3)\n",
    "sel2 = (lrg_representitve['id_sample']==id_sample)\n",
    "sel = sel&sel2\n",
    "x = (lrg_representitve[sel]['flux_g']-lrg_representitve[sel]['sim_gflux'])\n",
    "p=plt.hist(x,bins=40)\n",
    "print('g mean: %.3f'%x.mean())\n",
    "print('g std: %.3f'%x.std())\n",
    "\n",
    "plt.subplot(2,2,2)\n",
    "plt.title('delta r flux / error')\n",
    "sel = (lrg_representitve['flux_r']>0)&(lrg_representitve['flux_r']<40)&(np.abs(lrg_representitve['flux_r']-lrg_representitve['sim_rflux'])<1)\n",
    "sel2 = (lrg_representitve['id_sample']==id_sample)\n",
    "sel = sel&sel2\n",
    "x=(lrg_representitve[sel]['flux_r']-lrg_representitve[sel]['sim_rflux'])\n",
    "p=plt.hist(x,bins=40)\n",
    "print('r mean: %.3f'%x.mean())\n",
    "print('r std: %.3f'%x.std())\n",
    "\n",
    "plt.subplot(2,2,3)\n",
    "plt.title('delta z flux / error')\n",
    "sel = (lrg_representitve['flux_z']>0)&(lrg_representitve['flux_z']<50)&(np.abs(lrg_representitve['flux_z']-lrg_representitve['sim_zflux'])<4)\n",
    "sel2 = (lrg_representitve['id_sample']==id_sample)\n",
    "sel = sel&sel2\n",
    "x=(lrg_representitve[sel]['flux_z']-lrg_representitve[sel]['sim_zflux'])\n",
    "p=plt.hist(x,bins=40)\n",
    "print('z mean: %.3f'%x.mean())\n",
    "print('z std: %.3f'%x.std())\n",
    "\n",
    "\n",
    "plt.tight_layout()\n"
   ]
  },
  {
   "cell_type": "markdown",
   "metadata": {},
   "source": [
    "#### here's LRG south selected using isLRG code"
   ]
  },
  {
   "cell_type": "code",
   "execution_count": 2,
   "metadata": {},
   "outputs": [],
   "source": [
    "fn = '/global/cscratch1/sd/huikong/Obiwan/dr9_LRG/obiwan_code/obiwan_dr9m/etc/LRG_south.fits'\n",
    "dat = fits.getdata(fn)\n"
   ]
  },
  {
   "cell_type": "code",
   "execution_count": 9,
   "metadata": {},
   "outputs": [
    {
     "data": {
      "image/png": "[encoded data removed]",
      "text/plain": [
       "<matplotlib.figure.Figure at 0x2aaadccddc88>"
      ]
     },
     "metadata": {},
     "output_type": "display_data"
    }
   ],
   "source": [
    "sel = (dat['SHAPE_R']<5)\n",
    "p=plt.hist(dat[sel]['SHAPE_R'],bins=100)"
   ]
  },
  {
   "cell_type": "code",
   "execution_count": 12,
   "metadata": {},
   "outputs": [
    {
     "data": {
      "image/png": "[encoded data removed]",
      "text/plain": [
       "<matplotlib.figure.Figure at 0x2aaafdfc8d30>"
      ]
     },
     "metadata": {},
     "output_type": "display_data"
    }
   ],
   "source": [
    "sel = (dat['SHAPE_R']<0.8)&(dat['SHAPE_R']>0)\n",
    "p=plt.hist(dat[sel]['SHAPE_R'],bins=100)"
   ]
  },
  {
   "cell_type": "code",
   "execution_count": 63,
   "metadata": {},
   "outputs": [
    {
     "data": {
      "image/png": "[encoded data removed]",
      "text/plain": [
       "<matplotlib.figure.Figure at 0x2aaafe352ef0>"
      ]
     },
     "metadata": {},
     "output_type": "display_data"
    }
   ],
   "source": [
    "sel = (dat['SHAPE_R']<5)\n",
    "sel2=(dat['TYPE']=='SER')\n",
    "p=plt.hist(dat[sel&sel2]['SHAPE_R'],bins=100,cumulative=True,density=True)\n",
    "plt.plot([0.3,0.3],[0,1],'k--')\n",
    "plt.grid(which='both')"
   ]
  },
  {
   "cell_type": "code",
   "execution_count": 81,
   "metadata": {},
   "outputs": [],
   "source": [
    "minr=np.log(0.1)\n",
    "maxr=np.log(5)\n",
    "rs = [np.exp(i*(maxr-minr)/100+minr) for i in range(100)]"
   ]
  },
  {
   "cell_type": "code",
   "execution_count": 83,
   "metadata": {},
   "outputs": [
    {
     "data": {
      "text/plain": [
       "[0.10000000000000002,\n",
       " 0.10398955028272282,\n",
       " 0.10813826568002935,\n",
       " 0.11245249616419849,\n",
       " 0.11693884504284612,\n",
       " 0.12160417906586575,\n",
       " 0.12645563893559073,\n",
       " 0.1315006502362645,\n",
       " 0.13674693479954772,\n",
       " 0.14220252252345783,\n",
       " 0.14787576366283139,\n",
       " 0.15377534161012038,\n",
       " 0.15991028618608488,\n",
       " 0.16628998746072465,\n",
       " 0.17292421012560369,\n",
       " 0.17982310843956589,\n",
       " 0.1869972417707175,\n",
       " 0.194457590758465,\n",
       " 0.20221557412034533,\n",
       " 0.21028306612937303,\n",
       " 0.21867241478865565,\n",
       " 0.22739646073109318,\n",
       " 0.23646855687309218,\n",
       " 0.24590258885237315,\n",
       " 0.25571299628115562,\n",
       " 0.26591479484724945,\n",
       " 0.27652359929687964,\n",
       " 0.28755564733442357,\n",
       " 0.29902782447563941,\n",
       " 0.31095768989242711,\n",
       " 0.32336350328867869,\n",
       " 0.33626425284835459,\n",
       " 0.34967968429856178,\n",
       " 0.36363033113211929,\n",
       " 0.37813754603586652,\n",
       " 0.39322353357282147,\n",
       " 0.4089113841682086,\n",
       " 0.42522510945137709,\n",
       " 0.44218967900770273,\n",
       " 0.45983105859672563,\n",
       " 0.47817624989501856,\n",
       " 0.49725333182461839,\n",
       " 0.517091503530276,\n",
       " 0.53772112907130376,\n",
       " 0.55917378389642824,\n",
       " 0.58148230317277982,\n",
       " 0.60468083204299261,\n",
       " 0.6288048778873343,\n",
       " 0.65389136467086306,\n",
       " 0.67997868945878959,\n",
       " 0.70710678118654746,\n",
       " 0.73531716177452744,\n",
       " 0.76465300968101235,\n",
       " 0.79515922599058952,\n",
       " 0.82688250313919354,\n",
       " 0.85987139638096854,\n",
       " 0.89417639810633798,\n",
       " 0.92985001512502985,\n",
       " 0.9669468490323484,\n",
       " 1.0055236797816978,\n",
       " 1.0456395525912729,\n",
       " 1.0873558683179396,\n",
       " 1.1307364774366213,\n",
       " 1.1758477777690433,\n",
       " 1.2227588161114178,\n",
       " 1.2715413939166089,\n",
       " 1.3222701771925469,\n",
       " 1.3750228107850908,\n",
       " 1.4298800372202702,\n",
       " 1.4869258202877891,\n",
       " 1.5462474735549581,\n",
       " 1.6079357940077648,\n",
       " 1.6720852010236025,\n",
       " 1.7387938808884049,\n",
       " 1.8081639370793559,\n",
       " 1.8803015465431969,\n",
       " 1.9553171222093513,\n",
       " 2.0333254819865827,\n",
       " 2.114446024501853,\n",
       " 2.1988029118503865,\n",
       " 2.2865252596366314,\n",
       " 2.3777473345969922,\n",
       " 2.4726087601068398,\n",
       " 2.5712547298863124,\n",
       " 2.6738362302320136,\n",
       " 2.7805102711147809,\n",
       " 2.891440126497177,\n",
       " 3.006795584238604,\n",
       " 3.126753205970493,\n",
       " 3.2514965973393331,\n",
       " 3.3812166890312052,\n",
       " 3.5161120290079215,\n",
       " 3.656389086402057,\n",
       " 3.802262567536054,\n",
       " 3.9539557445490536,\n",
       " 4.1117007971344446,\n",
       " 4.2757391679112358,\n",
       " 4.4463219319731291,\n",
       " 4.6237101811809289,\n",
       " 4.8081754237865173]"
      ]
     },
     "execution_count": 83,
     "metadata": {},
     "output_type": "execute_result"
    }
   ],
   "source": [
    "rs"
   ]
  },
  {
   "cell_type": "code",
   "execution_count": 49,
   "metadata": {},
   "outputs": [
    {
     "data": {
      "text/plain": [
       "1.0702091"
      ]
     },
     "execution_count": 49,
     "metadata": {},
     "output_type": "execute_result"
    }
   ],
   "source": [
    "dat[sel]['SHAPE_R'].mean()"
   ]
  },
  {
   "cell_type": "code",
   "execution_count": 53,
   "metadata": {},
   "outputs": [
    {
     "data": {
      "text/plain": [
       "862249"
      ]
     },
     "execution_count": 53,
     "metadata": {},
     "output_type": "execute_result"
    }
   ],
   "source": [
    "(dat['TYPE']=='REX').sum()"
   ]
  },
  {
   "cell_type": "code",
   "execution_count": 54,
   "metadata": {},
   "outputs": [
    {
     "data": {
      "text/plain": [
       "0.20387588064551826"
      ]
     },
     "execution_count": 54,
     "metadata": {},
     "output_type": "execute_result"
    }
   ],
   "source": [
    "(dat['TYPE']=='REX').sum()/len(dat)"
   ]
  },
  {
   "cell_type": "code",
   "execution_count": 55,
   "metadata": {},
   "outputs": [
    {
     "data": {
      "text/plain": [
       "0.04351185685331134"
      ]
     },
     "execution_count": 55,
     "metadata": {},
     "output_type": "execute_result"
    }
   ],
   "source": [
    "(dat['TYPE']=='EXP').sum()/len(dat)"
   ]
  },
  {
   "cell_type": "code",
   "execution_count": 56,
   "metadata": {},
   "outputs": [
    {
     "data": {
      "text/plain": [
       "0.023445103237332843"
      ]
     },
     "execution_count": 56,
     "metadata": {},
     "output_type": "execute_result"
    }
   ],
   "source": [
    "(dat['TYPE']=='PSF').sum()/len(dat)"
   ]
  },
  {
   "cell_type": "code",
   "execution_count": 57,
   "metadata": {},
   "outputs": [
    {
     "data": {
      "text/plain": [
       "0.53161126091319477"
      ]
     },
     "execution_count": 57,
     "metadata": {},
     "output_type": "execute_result"
    }
   ],
   "source": [
    "(dat['TYPE']=='DEV').sum()/len(dat)"
   ]
  },
  {
   "cell_type": "code",
   "execution_count": 62,
   "metadata": {},
   "outputs": [
    {
     "data": {
      "text/plain": [
       "0.1975558983506428"
      ]
     },
     "execution_count": 62,
     "metadata": {},
     "output_type": "execute_result"
    }
   ],
   "source": [
    "(dat['TYPE']=='SER').sum()/len(dat)"
   ]
  },
  {
   "cell_type": "code",
   "execution_count": 59,
   "metadata": {},
   "outputs": [
    {
     "data": {
      "text/plain": [
       "0.0"
      ]
     },
     "execution_count": 59,
     "metadata": {},
     "output_type": "execute_result"
    }
   ],
   "source": [
    "(dat['TYPE']=='DUP').sum()/len(dat)"
   ]
  },
  {
   "cell_type": "code",
   "execution_count": 68,
   "metadata": {},
   "outputs": [
    {
     "data": {
      "text/plain": [
       "[<matplotlib.lines.Line2D at 0x2aaafe411470>]"
      ]
     },
     "execution_count": 68,
     "metadata": {},
     "output_type": "execute_result"
    },
    {
     "data": {
      "image/png": "[encoded data removed]",
      "text/plain": [
       "<matplotlib.figure.Figure at 0x2aaadccdd9e8>"
      ]
     },
     "metadata": {},
     "output_type": "display_data"
    }
   ],
   "source": [
    "plt.figure(figsize=(7,7))\n",
    "plt.plot(dat[sel&sel2]['SHAPE_E1'],dat[sel&sel2]['SHAPE_E2'],'r,')"
   ]
  },
  {
   "cell_type": "code",
   "execution_count": 71,
   "metadata": {},
   "outputs": [
    {
     "data": {
      "image/png": "[encoded data removed]",
      "text/plain": [
       "<matplotlib.figure.Figure at 0x2aaafe30d358>"
      ]
     },
     "metadata": {},
     "output_type": "display_data"
    }
   ],
   "source": [
    "p=plt.hist(dat[sel&sel2]['SHAPE_E1']**2+dat[sel&sel2]['SHAPE_E2']**2,bins=100)"
   ]
  },
  {
   "cell_type": "code",
   "execution_count": 72,
   "metadata": {},
   "outputs": [
    {
     "data": {
      "text/plain": [
       "0.95709187"
      ]
     },
     "execution_count": 72,
     "metadata": {},
     "output_type": "execute_result"
    }
   ],
   "source": [
    "(dat[sel&sel2]['SHAPE_E1']**2+dat[sel&sel2]['SHAPE_E2']**2).max()"
   ]
  },
  {
   "cell_type": "code",
   "execution_count": 79,
   "metadata": {},
   "outputs": [],
   "source": [
    "fn = '/global/cscratch1/sd/huikong/Obiwan/dr9_LRG/obiwan_out/wise_ebv1000/seed.fits'\n",
    "dat = fits.getdata(fn)"
   ]
  },
  {
   "cell_type": "code",
   "execution_count": 80,
   "metadata": {},
   "outputs": [
    {
     "data": {
      "image/png": "[encoded data removed]",
      "text/plain": [
       "<matplotlib.figure.Figure at 0x2aaab1509128>"
      ]
     },
     "metadata": {},
     "output_type": "display_data"
    }
   ],
   "source": [
    "sel = (dat['rhalf']<5)\n",
    "p=plt.hist(dat[sel]['rhalf'],bins=100,cumulative=True,density=True)"
   ]
  },
  {
   "cell_type": "code",
   "execution_count": null,
   "metadata": {},
   "outputs": [],
   "source": []
  }
 ],
 "metadata": {
  "kernelspec": {
   "display_name": "DESI 19.2",
   "language": "python",
   "name": "desi-19.2"
  },
  "language_info": {
   "codemirror_mode": {
    "name": "ipython",
    "version": 3
   },
   "file_extension": ".py",
   "mimetype": "text/x-python",
   "name": "python",
   "nbconvert_exporter": "python",
   "pygments_lexer": "ipython3",
   "version": "3.6.6"
  }
 },
 "nbformat": 4,
 "nbformat_minor": 4
}
